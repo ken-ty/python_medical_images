{
 "cells": [
  {
   "cell_type": "markdown",
   "metadata": {},
   "source": [
    "# 第5章 Pythonを使った人工知能の前処理を学ぶ"
   ]
  },
  {
   "cell_type": "markdown",
   "metadata": {},
   "source": [
    "## 5.1 はじめに\n",
    "\n",
    "臨床での開発や研究が盛んにおこなわれていない。\n",
    "臨床施設は画像データを含む多くの医療データを所有している。\n",
    "SVNにはスケール変換が必要なことは有名。\n",
    "\n",
    "---"
   ]
  },
  {
   "cell_type": "markdown",
   "metadata": {},
   "source": [
    "## 5.2 テーブルデータにおける欠損値の取り扱い\n",
    "\n",
    "### 5.2.1 テーブルデータの読み込み\n"
   ]
  },
  {
   "cell_type": "markdown",
   "metadata": {},
   "source": [
    "リスト5.2.2 pandasを用いたcsvファイルの読み込みと表示"
   ]
  },
  {
   "cell_type": "code",
   "execution_count": 1,
   "metadata": {},
   "outputs": [
    {
     "name": "stdout",
     "output_type": "stream",
     "text": [
      "     PassengerId  Survived  Pclass  \\\n",
      "0              1         0       3   \n",
      "1              2         1       1   \n",
      "2              3         1       3   \n",
      "3              4         1       1   \n",
      "4              5         0       3   \n",
      "..           ...       ...     ...   \n",
      "886          887         0       2   \n",
      "887          888         1       1   \n",
      "888          889         0       3   \n",
      "889          890         1       1   \n",
      "890          891         0       3   \n",
      "\n",
      "                                                  Name  Sex   Age  SibSp  \\\n",
      "0                              Braund, Mr. Owen Harris    0  22.0      1   \n",
      "1    Cumings, Mrs. John Bradley (Florence Briggs Th...    1  38.0      1   \n",
      "2                               Heikkinen, Miss. Laina    1  26.0      0   \n",
      "3         Futrelle, Mrs. Jacques Heath (Lily May Peel)    1  35.0      1   \n",
      "4                             Allen, Mr. William Henry    0  35.0      0   \n",
      "..                                                 ...  ...   ...    ...   \n",
      "886                              Montvila, Rev. Juozas    0  27.0      0   \n",
      "887                       Graham, Miss. Margaret Edith    1  19.0      0   \n",
      "888           Johnston, Miss. Catherine Helen \"Carrie\"    1   NaN      1   \n",
      "889                              Behr, Mr. Karl Howell    0  26.0      0   \n",
      "890                                Dooley, Mr. Patrick    0  32.0      0   \n",
      "\n",
      "     Parch            Ticket     Fare Cabin Embarked  \n",
      "0        0         A/5 21171   7.2500   NaN        S  \n",
      "1        0          PC 17599  71.2833   C85        C  \n",
      "2        0  STON/O2. 3101282   7.9250   NaN        S  \n",
      "3        0            113803  53.1000  C123        S  \n",
      "4        0            373450   8.0500   NaN        S  \n",
      "..     ...               ...      ...   ...      ...  \n",
      "886      0            211536  13.0000   NaN        S  \n",
      "887      0            112053  30.0000   B42        S  \n",
      "888      2        W./C. 6607  23.4500   NaN        S  \n",
      "889      0            111369  30.0000  C148        C  \n",
      "890      0            370376   7.7500   NaN        Q  \n",
      "\n",
      "[891 rows x 12 columns]\n"
     ]
    }
   ],
   "source": [
    "import pandas as pd\n",
    "# コンマ区切りでcsvファイルを読み込み、性別を0, 1に置き換える。\n",
    "df = pd.read_csv(\n",
    "    \"/Users/toku/Documents/Progects/カルー勉強会/\"+\n",
    "    \"titanic/train.csv\", sep=\",\").replace(\"male\", 0).replace(\"female\", 1)\n",
    "\n",
    "print(df)"
   ]
  },
  {
   "cell_type": "markdown",
   "metadata": {},
   "source": [
    "### 5.2.2 欠損値の処理\n",
    "\n",
    "データの欠損３種類:\n",
    "1. MCAR(missing completely at random)  \n",
    "    完全にランダムな原因で欠損が発生\n",
    "1. MAR (missing at random)  \n",
    "    観測データに依存する原因で欠損が発生\n",
    "1. MNAR(missing not at random)\n",
    "    欠損値そのものに原因して欠損が発生\n",
    "\n",
    "対処法:\n",
    "1. 完全ケース分析  \n",
    "    欠損値を含むサンプルを除外\n",
    "1. 欠損値を補完\n",
    "\n",
    "しかし、MARやMNARを多く含むデータセットの場合は、完全ケース分析を行うと、\n",
    "解析結果に大きな歪みを生じてしまう。\n",
    "\n",
    "欠損値に何らかの値を代入する方法として平均値代入法、回帰代入法などがある。\n",
    "単純だが、学習う結果に基づく推定の際に、大きな誤差を生みかねない。\n",
    "近年では、多重代入法が考案されている。\n",
    "\n",
    "以降では、欠損値をもつデータを削除するリストワイズ削除処理と、シンプルな\n",
    "欠損値補完を行う。"
   ]
  },
  {
   "cell_type": "markdown",
   "metadata": {},
   "source": [
    "リスト5.2.3 データセット内のクラス別欠損値数表示"
   ]
  },
  {
   "cell_type": "code",
   "execution_count": 18,
   "metadata": {},
   "outputs": [
    {
     "data": {
      "text/plain": [
       "PassengerId      0\n",
       "Survived         0\n",
       "Pclass           0\n",
       "Name             0\n",
       "Sex              0\n",
       "Age            177\n",
       "SibSp            0\n",
       "Parch            0\n",
       "Ticket           0\n",
       "Fare             0\n",
       "Cabin          687\n",
       "Embarked         2\n",
       "dtype: int64"
      ]
     },
     "execution_count": 18,
     "metadata": {},
     "output_type": "execute_result"
    }
   ],
   "source": [
    "df.isnull().sum()"
   ]
  },
  {
   "cell_type": "markdown",
   "metadata": {},
   "source": [
    "欠損値を処理するメソッド:\n",
    "    1. dropna(): データ欠損のある行または列を削除\n",
    "    1. fillna(): データ欠損のある要素を補完する"
   ]
  },
  {
   "cell_type": "markdown",
   "metadata": {},
   "source": [
    "リスト5.2.4 データセットに対するリストワイズ処理"
   ]
  },
  {
   "cell_type": "code",
   "execution_count": 2,
   "metadata": {
    "scrolled": true
   },
   "outputs": [
    {
     "data": {
      "text/plain": [
       "PassengerId    0\n",
       "Survived       0\n",
       "Pclass         0\n",
       "Name           0\n",
       "Sex            0\n",
       "Age            0\n",
       "SibSp          0\n",
       "Parch          0\n",
       "Ticket         0\n",
       "Fare           0\n",
       "Cabin          0\n",
       "Embarked       0\n",
       "dtype: int64"
      ]
     },
     "execution_count": 2,
     "metadata": {},
     "output_type": "execute_result"
    }
   ],
   "source": [
    "df_listwise = df.dropna()\n",
    "df_listwise.isnull().sum()"
   ]
  },
  {
   "cell_type": "markdown",
   "metadata": {},
   "source": [
    "リスト5.2.5 データセットのデータを確認"
   ]
  },
  {
   "cell_type": "code",
   "execution_count": 3,
   "metadata": {
    "scrolled": true
   },
   "outputs": [
    {
     "name": "stdout",
     "output_type": "stream",
     "text": [
      "1      38.0\n",
      "3      35.0\n",
      "6      54.0\n",
      "10      4.0\n",
      "11     58.0\n",
      "       ... \n",
      "871    47.0\n",
      "872    33.0\n",
      "879    56.0\n",
      "887    19.0\n",
      "889    26.0\n",
      "Name: Age, Length: 183, dtype: float64\n"
     ]
    }
   ],
   "source": [
    "print(df_listwise['Age'])"
   ]
  },
  {
   "cell_type": "markdown",
   "metadata": {},
   "source": [
    "データ数の減少より、推定自体の悪化が予想される。"
   ]
  },
  {
   "cell_type": "markdown",
   "metadata": {},
   "source": [
    "次に、平均値代入法を適用する。これは、単一代入法の一つである。代入モデルという欠損値を予測するモデルを作成し、作成されたモデルによって欠損値を補う。"
   ]
  },
  {
   "cell_type": "markdown",
   "metadata": {},
   "source": [
    "リスト5.2.6 平均値代入法"
   ]
  },
  {
   "cell_type": "code",
   "execution_count": 4,
   "metadata": {
    "scrolled": true
   },
   "outputs": [
    {
     "data": {
      "text/plain": [
       "PassengerId      0\n",
       "Survived         0\n",
       "Pclass           0\n",
       "Name             0\n",
       "Sex              0\n",
       "Age              0\n",
       "SibSp            0\n",
       "Parch            0\n",
       "Ticket           0\n",
       "Fare             0\n",
       "Cabin          687\n",
       "Embarked         2\n",
       "dtype: int64"
      ]
     },
     "execution_count": 4,
     "metadata": {},
     "output_type": "execute_result"
    }
   ],
   "source": [
    "df_mean = df.copy(deep=False) \n",
    "df_mean['Age'] = df_mean['Age'].fillna(df_mean['Age'].mean())\n",
    "df_mean.isnull().sum()"
   ]
  },
  {
   "cell_type": "markdown",
   "metadata": {},
   "source": [
    "リスト5.2.7  Age列を確認"
   ]
  },
  {
   "cell_type": "code",
   "execution_count": 5,
   "metadata": {},
   "outputs": [
    {
     "name": "stdout",
     "output_type": "stream",
     "text": [
      "0      22.000000\n",
      "1      38.000000\n",
      "2      26.000000\n",
      "3      35.000000\n",
      "4      35.000000\n",
      "         ...    \n",
      "886    27.000000\n",
      "887    19.000000\n",
      "888    29.699118\n",
      "889    26.000000\n",
      "890    32.000000\n",
      "Name: Age, Length: 891, dtype: float64\n"
     ]
    }
   ],
   "source": [
    "print(df_mean['Age'])"
   ]
  },
  {
   "cell_type": "markdown",
   "metadata": {},
   "source": [
    "推定誤差の評価ができない"
   ]
  },
  {
   "cell_type": "markdown",
   "metadata": {},
   "source": [
    "### 5.2.3 欠損値処理が機械学習に及ぼす効果"
   ]
  },
  {
   "cell_type": "code",
   "execution_count": 8,
   "metadata": {},
   "outputs": [],
   "source": [
    "# ライブラリのインポート\n",
    "import numpy as np\n",
    "import matplotlib as mpl\n",
    "import matplotlib.pyplot as plt\n",
    "%matplotlib inline\n",
    "from sklearn import metrics\n",
    "from sklearn.model_selection import train_test_split\n",
    "from sklearn.metrics import accuracy_score\n",
    "from sklearn.metrics import precision_score\n",
    "from sklearn.ensemble import RandomForestClassifier\n",
    "from sklearn.metrics import confusion_matrix\n",
    "from sklearn.metrics import recall_score\n",
    "from pandas.plotting import scatter_matrix"
   ]
  },
  {
   "cell_type": "markdown",
   "metadata": {},
   "source": [
    "リスト5.2.9 分類するクラスを確認(リストワイズ処理後のデータを使用"
   ]
  },
  {
   "cell_type": "code",
   "execution_count": 10,
   "metadata": {},
   "outputs": [
    {
     "data": {
      "text/plain": [
       "1    123\n",
       "0     60\n",
       "Name: Survived, dtype: int64"
      ]
     },
     "execution_count": 10,
     "metadata": {},
     "output_type": "execute_result"
    }
   ],
   "source": [
    "df_listwise['Survived'].value_counts()"
   ]
  },
  {
   "cell_type": "markdown",
   "metadata": {},
   "source": [
    "ここから、学習に不要なクラスを削除して、学習用の説明変数と正解クラス、\n",
    "評価用の説明変数と評価クラスにデータセットを分割する。\n",
    "\n",
    "ここでは、タイタニック号事故の生存者と死者の２クラス分類の予測を行う。"
   ]
  },
  {
   "cell_type": "markdown",
   "metadata": {},
   "source": [
    "リスト5.2.10 データセットの成型と学習のための分割"
   ]
  },
  {
   "cell_type": "markdown",
   "metadata": {},
   "source": [
    "[train_test_splitの説明](https://note.nkmk.me/python-sklearn-train-test-split/)"
   ]
  },
  {
   "cell_type": "code",
   "execution_count": 41,
   "metadata": {},
   "outputs": [],
   "source": [
    "# 不要なクラスを削除\n",
    "df2 = df_listwise.drop([\"Name\", \"SibSp\", \"Parch\", \"Ticket\", \"Cabin\", \"Embarked\"], axis=1)\n",
    "\n",
    "train_dataset = df2.values\n",
    "train_x = train_dataset[:, 2:] # Survived以降の変数\n",
    "train_y = train_dataset[:, 1]  # 正解クラス(Survived)\n",
    "\n",
    "# 訓練用の説明変数と正解クラス、評価用の説明変数と正解クラスに分割\n",
    "(train_x, test_x, train_y, test_y) = train_test_split(train_x, train_y, test_size = 0.3, random_state = 0)"
   ]
  },
  {
   "cell_type": "markdown",
   "metadata": {},
   "source": [
    "ROC曲線 あるがある確率,ないがない確率がそれぞれ１に近づくと良い。"
   ]
  },
  {
   "cell_type": "markdown",
   "metadata": {},
   "source": [
    "リスト5.2.11 ランダムフォレストの実行\n",
    "\n",
    "各決定きのふかさ３、\n",
    "決定きの数１００  \n",
    "精度とROCを\n",
    "描画"
   ]
  },
  {
   "cell_type": "code",
   "execution_count": 52,
   "metadata": {},
   "outputs": [
    {
     "name": "stdout",
     "output_type": "stream",
     "text": [
      "TrainAccuracy: 0.8046875\n",
      "Accuracy: 0.8181818181818182\n",
      "Recall: 0.9047619047619048\n"
     ]
    }
   ],
   "source": [
    "# 識別モデルの構築(ランダムフォレスト)\n",
    "forest = RandomForestClassifier(max_depth=3, n_estimators=100, random_state=0)\n",
    "\n",
    "# 学習させます\n",
    "forest = forest.fit(train_x, train_y)\n",
    "\n",
    "# 予測値の算出\n",
    "y_pred = forest.predict(test_x)\n",
    "\n",
    "# モデル学習きのモデル識別精度\n",
    "trainaccuracy_random_forest = forest.score(train_x, train_y)\n",
    "print(\"TrainAccuracy: {}\".format(trainaccuracy_random_forest))\n",
    "\n",
    "# 評価用データセットでの識別精度\n",
    "accuracy_random_forest = accuracy_score(test_y, y_pred)\n",
    "print(\"Accuracy: {}\".format(accuracy_random_forest))\n",
    "\n",
    "# recallの評価\n",
    "recall_random_forest =  recall_score(test_y, y_pred)\n",
    "print(\"Recall: {}\".format(recall_random_forest))"
   ]
  },
  {
   "cell_type": "markdown",
   "metadata": {},
   "source": [
    "リスト 5.2.12 ROC曲線の描画"
   ]
  },
  {
   "cell_type": "code",
   "execution_count": 53,
   "metadata": {},
   "outputs": [
    {
     "data": {
      "image/png": "[encoded data removed]",
      "text/plain": [
       "<Figure size 432x288 with 1 Axes>"
      ]
     },
     "metadata": {
      "needs_background": "light"
     },
     "output_type": "display_data"
    }
   ],
   "source": [
    "# FPR, TPR, しきい値を算出\n",
    "fpr, tpr, thresholds = metrics.roc_curve(test_y, y_pred)\n",
    "\n",
    "# AUC の計算\n",
    "auc = metrics.auc(fpr, tpr)\n",
    "\n",
    "# ROC曲線をプロット\n",
    "plt.plot(fpr, tpr, label = \"ROC curve(area = %.2f)\"%auc)\n",
    "plt.legend()\n",
    "plt.title(\"ROC curve\")\n",
    "plt.xlabel(\"Fales Positive Rate\")\n",
    "plt.ylabel(\"True Positive Rate\")\n",
    "plt.grid(True)"
   ]
  },
  {
   "cell_type": "code",
   "execution_count": null,
   "metadata": {},
   "outputs": [],
   "source": []
  }
 ],
 "metadata": {
  "kernelspec": {
   "display_name": "Python 3",
   "language": "python",
   "name": "python3"
  },
  "language_info": {
   "codemirror_mode": {
    "name": "ipython",
    "version": 3
   },
   "file_extension": ".py",
   "mimetype": "text/x-python",
   "name": "python",
   "nbconvert_exporter": "python",
   "pygments_lexer": "ipython3",
   "version": "3.7.6"
  }
 },
 "nbformat": 4,
 "nbformat_minor": 4
}
