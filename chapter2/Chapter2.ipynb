{
  "nbformat": 4,
  "nbformat_minor": 0,
  "metadata": {
    "colab": {
      "name": "Chapter2.ipynb",
      "provenance": [],
      "collapsed_sections": [
        "Z66xPFbGGRjj",
        "J9DntcPEGhXA",
        "zruDRDisG2_Y",
        "AnN-rMlDNMPk",
        "KjNqJXUx3_EZ",
        "hMCon6H-7sAq",
        "xJgEueQj9mNm",
        "SM0yHXBASBkw",
        "AFxj6ZV7DZf7",
        "bn3VCISDPp9t",
        "26N3ZrnC9p0X",
        "UrZGK0cXB4mr",
        "69RLlOK837Lr"
      ],
      "authorship_tag": "ABX9TyMn3kBFpWM63TEZyteggZEZ",
      "include_colab_link": true
    },
    "kernelspec": {
      "name": "python3",
      "display_name": "Python 3"
    }
  },
  "cells": [
    {
      "cell_type": "markdown",
      "metadata": {
        "id": "view-in-github",
        "colab_type": "text"
      },
      "source": [
        "<a href=\"https://colab.research.google.com/github/kentokura/python_medical_images/blob/master/chapter2/Chapter2.ipynb\" target=\"_parent\"><img src=\"https://colab.research.google.com/assets/colab-badge.svg\" alt=\"Open In Colab\"/></a>"
      ]
    },
    {
      "cell_type": "markdown",
      "metadata": {
        "id": "4H_01ICPFgP9",
        "colab_type": "text"
      },
      "source": [
        "# 第2章 Python プログラミングの基本を学ぶ\n",
        "「pythonによる医用画像処理入門」のチャプター2を写経。\n",
        "一部メモ。\n",
        "pythonの基礎を復習します。"
      ]
    },
    {
      "cell_type": "markdown",
      "metadata": {
        "id": "Z66xPFbGGRjj",
        "colab_type": "text"
      },
      "source": [
        "## 2.1 データ型"
      ]
    },
    {
      "cell_type": "markdown",
      "metadata": {
        "id": "J9DntcPEGhXA",
        "colab_type": "text"
      },
      "source": [
        "### 2.1.1 型とは"
      ]
    },
    {
      "cell_type": "markdown",
      "metadata": {
        "id": "RCUgt3-9J-rc",
        "colab_type": "text"
      },
      "source": [
        "リスト2.1.1"
      ]
    },
    {
      "cell_type": "code",
      "metadata": {
        "id": "M_KE_2p7GbIZ",
        "colab_type": "code",
        "outputId": "7c0eac0d-0749-48db-c109-82c4b4f8bff1",
        "colab": {
          "base_uri": "https://localhost:8080/",
          "height": 34
        }
      },
      "source": [
        "print(type(10))"
      ],
      "execution_count": 0,
      "outputs": [
        {
          "output_type": "stream",
          "text": [
            "<class 'int'>\n"
          ],
          "name": "stdout"
        }
      ]
    },
    {
      "cell_type": "markdown",
      "metadata": {
        "colab_type": "text",
        "id": "pHtGVkqcGzDb"
      },
      "source": [
        "リスト 2.1.2"
      ]
    },
    {
      "cell_type": "code",
      "metadata": {
        "id": "Yo5qqySHGfN0",
        "colab_type": "code",
        "outputId": "b8a88307-2b8a-4896-8f78-865e801f5d40",
        "colab": {
          "base_uri": "https://localhost:8080/",
          "height": 34
        }
      },
      "source": [
        "print(type(\"foo\"))"
      ],
      "execution_count": 0,
      "outputs": [
        {
          "output_type": "stream",
          "text": [
            "<class 'str'>\n"
          ],
          "name": "stdout"
        }
      ]
    },
    {
      "cell_type": "markdown",
      "metadata": {
        "id": "zruDRDisG2_Y",
        "colab_type": "text"
      },
      "source": [
        "### 2.1.2 数値"
      ]
    },
    {
      "cell_type": "markdown",
      "metadata": {
        "id": "SI643tmFKN9-",
        "colab_type": "text"
      },
      "source": [
        "リスト 2.1.3"
      ]
    },
    {
      "cell_type": "code",
      "metadata": {
        "id": "DmpUmQLwKLmH",
        "colab_type": "code",
        "outputId": "d958b2fb-cfec-4b14-d473-fb65f3aa4358",
        "colab": {
          "base_uri": "https://localhost:8080/",
          "height": 68
        }
      },
      "source": [
        "print(type(-5)) #整数\n",
        "print(type(2.73)) #浮動小数点数\n",
        "print(type(-5.0))"
      ],
      "execution_count": 0,
      "outputs": [
        {
          "output_type": "stream",
          "text": [
            "<class 'int'>\n",
            "<class 'float'>\n",
            "<class 'float'>\n"
          ],
          "name": "stdout"
        }
      ]
    },
    {
      "cell_type": "markdown",
      "metadata": {
        "id": "qFXiYwgnGZEI",
        "colab_type": "text"
      },
      "source": [
        "リスト2.1.4"
      ]
    },
    {
      "cell_type": "code",
      "metadata": {
        "id": "bCsvN8ZbHgU7",
        "colab_type": "code",
        "outputId": "c52108aa-2548-4cef-b4ea-36556063fc8d",
        "colab": {
          "base_uri": "https://localhost:8080/",
          "height": 119
        }
      },
      "source": [
        "print(type(5+4+10))\n",
        "print(type(5+4.0+10))\n",
        "print(type(4.3/2))\n",
        "print(type(4/2))\n",
        "print(type(5//2))\n",
        "print(type(5%2))"
      ],
      "execution_count": 0,
      "outputs": [
        {
          "output_type": "stream",
          "text": [
            "<class 'int'>\n",
            "<class 'float'>\n",
            "<class 'float'>\n",
            "<class 'float'>\n",
            "<class 'int'>\n",
            "<class 'int'>\n"
          ],
          "name": "stdout"
        }
      ]
    },
    {
      "cell_type": "markdown",
      "metadata": {
        "id": "hCqnMIWRLZDO",
        "colab_type": "text"
      },
      "source": [
        "リスト2.1.5"
      ]
    },
    {
      "cell_type": "code",
      "metadata": {
        "colab_type": "code",
        "id": "wOjEF_8GMUtZ",
        "outputId": "8b01f5e4-03e5-45bf-b42f-149731f26f2c",
        "colab": {
          "base_uri": "https://localhost:8080/",
          "height": 119
        }
      },
      "source": [
        "print(5+4+10)\n",
        "print(5+4.0+10)\n",
        "print(4.3/2)\n",
        "print(4/2)\n",
        "print(5//2)\n",
        "print(5%2)"
      ],
      "execution_count": 0,
      "outputs": [
        {
          "output_type": "stream",
          "text": [
            "19\n",
            "19.0\n",
            "2.15\n",
            "2.0\n",
            "2\n",
            "1\n"
          ],
          "name": "stdout"
        }
      ]
    },
    {
      "cell_type": "markdown",
      "metadata": {
        "id": "x66GQQWgHSs5",
        "colab_type": "text"
      },
      "source": [
        "リスト2.1.6"
      ]
    },
    {
      "cell_type": "code",
      "metadata": {
        "id": "h2dahWRiMzLL",
        "colab_type": "code",
        "outputId": "d5d90eaa-0ef6-4f66-aa74-5a7e1a7e79fd",
        "colab": {
          "base_uri": "https://localhost:8080/",
          "height": 68
        }
      },
      "source": [
        "print(5/2)\n",
        "print(6.3/2)\n",
        "print(8/3.0)"
      ],
      "execution_count": 0,
      "outputs": [
        {
          "output_type": "stream",
          "text": [
            "2.5\n",
            "3.15\n",
            "2.6666666666666665\n"
          ],
          "name": "stdout"
        }
      ]
    },
    {
      "cell_type": "markdown",
      "metadata": {
        "id": "5eS16-WCGTNd",
        "colab_type": "text"
      },
      "source": [
        "リスト2.1.7"
      ]
    },
    {
      "cell_type": "code",
      "metadata": {
        "id": "caNB7GXVNGtZ",
        "colab_type": "code",
        "outputId": "35b3ea94-deb5-4380-eac2-67caef290b80",
        "colab": {
          "base_uri": "https://localhost:8080/",
          "height": 68
        }
      },
      "source": [
        "print(5//2)\n",
        "print(6.3//2)\n",
        "print(8//3.0)"
      ],
      "execution_count": 0,
      "outputs": [
        {
          "output_type": "stream",
          "text": [
            "2\n",
            "3.0\n",
            "2.0\n"
          ],
          "name": "stdout"
        }
      ]
    },
    {
      "cell_type": "markdown",
      "metadata": {
        "id": "AnN-rMlDNMPk",
        "colab_type": "text"
      },
      "source": [
        "### 2.1.3 文字列"
      ]
    },
    {
      "cell_type": "markdown",
      "metadata": {
        "id": "czyi2fv62zNx",
        "colab_type": "text"
      },
      "source": [
        "リスト 2.1.8\n",
        "\n",
        "複数行にわたる場合,(\"\"\"...\"\"\")や('''...''')を使う."
      ]
    },
    {
      "cell_type": "code",
      "metadata": {
        "id": "55Mbtw7423Ew",
        "colab_type": "code",
        "outputId": "05689d38-ac2e-4d92-9e4e-2c585e9d3f56",
        "colab": {
          "base_uri": "https://localhost:8080/",
          "height": 68
        }
      },
      "source": [
        "print(type(\"foo\"))\n",
        "print(type('foo'))\n",
        "print(type(\"\"\"hogehoge\n",
        "fugafuga\n",
        "barbar\n",
        "booboo\"\"\"))"
      ],
      "execution_count": 0,
      "outputs": [
        {
          "output_type": "stream",
          "text": [
            "<class 'str'>\n",
            "<class 'str'>\n",
            "<class 'str'>\n"
          ],
          "name": "stdout"
        }
      ]
    },
    {
      "cell_type": "markdown",
      "metadata": {
        "id": "SUfal1iW2_gL",
        "colab_type": "text"
      },
      "source": [
        "リスト 2.1.9"
      ]
    },
    {
      "cell_type": "code",
      "metadata": {
        "id": "IuU1r26O3VdO",
        "colab_type": "code",
        "outputId": "cb11a0a3-0db0-46aa-d920-7a23cffd7c0a",
        "colab": {
          "base_uri": "https://localhost:8080/",
          "height": 34
        }
      },
      "source": [
        "print(\"Alice\" + \" in \" + \"Wonderland\")"
      ],
      "execution_count": 0,
      "outputs": [
        {
          "output_type": "stream",
          "text": [
            "Alice in Wonderland\n"
          ],
          "name": "stdout"
        }
      ]
    },
    {
      "cell_type": "markdown",
      "metadata": {
        "id": "gdn8Yrks3qah",
        "colab_type": "text"
      },
      "source": [
        "リスト2.1.10\n",
        "\n",
        "str型とint型を+演算子で連結することはできない."
      ]
    },
    {
      "cell_type": "code",
      "metadata": {
        "id": "Wzl7jJ5h3ueM",
        "colab_type": "code",
        "outputId": "b5a06885-5561-43f6-b6f2-1ec99644d4c5",
        "colab": {
          "base_uri": "https://localhost:8080/",
          "height": 168
        }
      },
      "source": [
        "print(\"I am \" + 20 + \" years old.\")"
      ],
      "execution_count": 0,
      "outputs": [
        {
          "output_type": "error",
          "ename": "TypeError",
          "evalue": "ignored",
          "traceback": [
            "\u001b[0;31m---------------------------------------------------------------------------\u001b[0m",
            "\u001b[0;31mTypeError\u001b[0m                                 Traceback (most recent call last)",
            "\u001b[0;32m<ipython-input-10-cb701a506a55>\u001b[0m in \u001b[0;36m<module>\u001b[0;34m()\u001b[0m\n\u001b[0;32m----> 1\u001b[0;31m \u001b[0mprint\u001b[0m\u001b[0;34m(\u001b[0m\u001b[0;34m\"I am \"\u001b[0m \u001b[0;34m+\u001b[0m \u001b[0;36m20\u001b[0m \u001b[0;34m+\u001b[0m \u001b[0;34m\" years old.\"\u001b[0m\u001b[0;34m)\u001b[0m\u001b[0;34m\u001b[0m\u001b[0;34m\u001b[0m\u001b[0m\n\u001b[0m",
            "\u001b[0;31mTypeError\u001b[0m: must be str, not int"
          ]
        }
      ]
    },
    {
      "cell_type": "markdown",
      "metadata": {
        "id": "ac7ms0fS30JD",
        "colab_type": "text"
      },
      "source": [
        "リスト2.1.11\n",
        "\n",
        "こうする"
      ]
    },
    {
      "cell_type": "code",
      "metadata": {
        "colab_type": "code",
        "id": "RQJ3gQpF4K1J",
        "outputId": "0b23deb7-d688-424c-9802-b06de9aafc67",
        "colab": {
          "base_uri": "https://localhost:8080/",
          "height": 34
        }
      },
      "source": [
        "print(\"I am \" + str(20) + \" years old.\")"
      ],
      "execution_count": 0,
      "outputs": [
        {
          "output_type": "stream",
          "text": [
            "I am 20 years old.\n"
          ],
          "name": "stdout"
        }
      ]
    },
    {
      "cell_type": "markdown",
      "metadata": {
        "id": "KjNqJXUx3_EZ",
        "colab_type": "text"
      },
      "source": [
        "## 2.2 変数"
      ]
    },
    {
      "cell_type": "markdown",
      "metadata": {
        "id": "lntCrXps4Q0i",
        "colab_type": "text"
      },
      "source": [
        "### 2.2.1 変数とは"
      ]
    },
    {
      "cell_type": "markdown",
      "metadata": {
        "id": "6rexs7IW4pXF",
        "colab_type": "text"
      },
      "source": [
        "リスト 2.2.1"
      ]
    },
    {
      "cell_type": "code",
      "metadata": {
        "id": "M-DqaU0r4vYa",
        "colab_type": "code",
        "outputId": "b151241f-e219-474c-f5db-a1cc9d753e68",
        "colab": {
          "base_uri": "https://localhost:8080/",
          "height": 34
        }
      },
      "source": [
        "a = 10\n",
        "b = a + 10\n",
        "print(b)"
      ],
      "execution_count": 0,
      "outputs": [
        {
          "output_type": "stream",
          "text": [
            "20\n"
          ],
          "name": "stdout"
        }
      ]
    },
    {
      "cell_type": "markdown",
      "metadata": {
        "id": "w4cE5YgN4ydQ",
        "colab_type": "text"
      },
      "source": [
        "### 2.2.2 変数名\n",
        "\n",
        "変数名として使える文字は以下である。\n",
        "\n",
        "- 0-9\n",
        "- A-Z\n",
        "- a-z\n",
        "- _"
      ]
    },
    {
      "cell_type": "markdown",
      "metadata": {
        "id": "EPOmRz1D5OTI",
        "colab_type": "text"
      },
      "source": [
        "リスト 2.2.2"
      ]
    },
    {
      "cell_type": "code",
      "metadata": {
        "id": "66EmviAa5Lut",
        "colab_type": "code",
        "outputId": "847b6350-e535-410c-c4d0-9c8e2018b3df",
        "colab": {
          "base_uri": "https://localhost:8080/",
          "height": 134
        }
      },
      "source": [
        "No.19 = 10 # .はエラーとなる"
      ],
      "execution_count": 0,
      "outputs": [
        {
          "output_type": "error",
          "ename": "SyntaxError",
          "evalue": "ignored",
          "traceback": [
            "\u001b[0;36m  File \u001b[0;32m\"<ipython-input-15-36cddec6d9db>\"\u001b[0;36m, line \u001b[0;32m1\u001b[0m\n\u001b[0;31m    No.19 = 10 # .はエラーとなる\u001b[0m\n\u001b[0m        ^\u001b[0m\n\u001b[0;31mSyntaxError\u001b[0m\u001b[0;31m:\u001b[0m invalid syntax\n"
          ]
        }
      ]
    },
    {
      "cell_type": "markdown",
      "metadata": {
        "id": "Cl0JWgSg5V_Q",
        "colab_type": "text"
      },
      "source": [
        "リスト 2.2.3"
      ]
    },
    {
      "cell_type": "code",
      "metadata": {
        "id": "uIKFRzrp42RR",
        "colab_type": "code",
        "outputId": "76cf3758-eadb-4b99-ba6a-9d0d39b94c39",
        "colab": {
          "base_uri": "https://localhost:8080/",
          "height": 134
        }
      },
      "source": [
        "1a = 10 # 数字が先頭だとエラー"
      ],
      "execution_count": 0,
      "outputs": [
        {
          "output_type": "error",
          "ename": "SyntaxError",
          "evalue": "ignored",
          "traceback": [
            "\u001b[0;36m  File \u001b[0;32m\"<ipython-input-16-f4d65da5698b>\"\u001b[0;36m, line \u001b[0;32m1\u001b[0m\n\u001b[0;31m    1a = 10 # 数字が先頭だとエラー\u001b[0m\n\u001b[0m     ^\u001b[0m\n\u001b[0;31mSyntaxError\u001b[0m\u001b[0;31m:\u001b[0m invalid syntax\n"
          ]
        }
      ]
    },
    {
      "cell_type": "markdown",
      "metadata": {
        "id": "gr7eW1365fCL",
        "colab_type": "text"
      },
      "source": [
        "リスト 2.2.4\n",
        "\n",
        "キーワード（予約語)はpythonでは特別な意味を持つので変数名としては使えない。以下のように確認できる。"
      ]
    },
    {
      "cell_type": "code",
      "metadata": {
        "id": "sijgqFis54G6",
        "colab_type": "code",
        "outputId": "d54e5c5e-cbb9-4186-a012-95e2de5da271",
        "colab": {
          "base_uri": "https://localhost:8080/",
          "height": 578
        }
      },
      "source": [
        "import keyword\n",
        "\n",
        "# 横長が嫌だからforで回す\n",
        "for word in keyword.kwlist:\n",
        "  print(word)"
      ],
      "execution_count": 0,
      "outputs": [
        {
          "output_type": "stream",
          "text": [
            "False\n",
            "None\n",
            "True\n",
            "and\n",
            "as\n",
            "assert\n",
            "break\n",
            "class\n",
            "continue\n",
            "def\n",
            "del\n",
            "elif\n",
            "else\n",
            "except\n",
            "finally\n",
            "for\n",
            "from\n",
            "global\n",
            "if\n",
            "import\n",
            "in\n",
            "is\n",
            "lambda\n",
            "nonlocal\n",
            "not\n",
            "or\n",
            "pass\n",
            "raise\n",
            "return\n",
            "try\n",
            "while\n",
            "with\n",
            "yield\n"
          ],
          "name": "stdout"
        }
      ]
    },
    {
      "cell_type": "markdown",
      "metadata": {
        "id": "-KEj3-Zt6SEN",
        "colab_type": "text"
      },
      "source": [
        "リスト 2.2.5"
      ]
    },
    {
      "cell_type": "code",
      "metadata": {
        "id": "bntkfVL56MkO",
        "colab_type": "code",
        "outputId": "2d4e61c4-ae5f-4504-b68c-425fb1136eeb",
        "colab": {
          "base_uri": "https://localhost:8080/",
          "height": 34
        }
      },
      "source": [
        "a = 10\n",
        "a = a - 3\n",
        "print(a)"
      ],
      "execution_count": 0,
      "outputs": [
        {
          "output_type": "stream",
          "text": [
            "7\n"
          ],
          "name": "stdout"
        }
      ]
    },
    {
      "cell_type": "markdown",
      "metadata": {
        "id": "0H5bQ-aH6fRa",
        "colab_type": "text"
      },
      "source": [
        "リスト 2.2.6"
      ]
    },
    {
      "cell_type": "code",
      "metadata": {
        "colab_type": "code",
        "id": "g_Z8vygK6kmK",
        "outputId": "a8f2bc92-3dc7-4599-ec45-d6507c158132",
        "colab": {
          "base_uri": "https://localhost:8080/",
          "height": 34
        }
      },
      "source": [
        "a = 10\n",
        "a -= 3\n",
        "print(a)"
      ],
      "execution_count": 0,
      "outputs": [
        {
          "output_type": "stream",
          "text": [
            "7\n"
          ],
          "name": "stdout"
        }
      ]
    },
    {
      "cell_type": "markdown",
      "metadata": {
        "colab_type": "text",
        "id": "QdmtdN-N6nRy"
      },
      "source": [
        "リスト 2.2.7"
      ]
    },
    {
      "cell_type": "code",
      "metadata": {
        "colab_type": "code",
        "id": "S1Upz7VJ6k46",
        "outputId": "9fa91909-01ed-4405-d8a0-d14725ac9a84",
        "colab": {
          "base_uri": "https://localhost:8080/",
          "height": 34
        }
      },
      "source": [
        "a = 10\n",
        "a *= 2\n",
        "print(a)"
      ],
      "execution_count": 0,
      "outputs": [
        {
          "output_type": "stream",
          "text": [
            "20\n"
          ],
          "name": "stdout"
        }
      ]
    },
    {
      "cell_type": "markdown",
      "metadata": {
        "id": "9xm8Iyp46s73",
        "colab_type": "text"
      },
      "source": [
        "リスト 2.2.8\n",
        "\n",
        "pythonでは、変数名は小文字で始まり、\"_\"で単語をつなぐのが慣習。\n",
        "スネークケースなどという。  \n",
        "正式なものは[PEP8](https://pep8-ja.readthedocs.io/ja/latest/)を参照されたし。"
      ]
    },
    {
      "cell_type": "code",
      "metadata": {
        "id": "pCCSeFiw666h",
        "colab_type": "code",
        "outputId": "75980635-8253-4e61-c714-0c507a925e75",
        "colab": {
          "base_uri": "https://localhost:8080/",
          "height": 34
        }
      },
      "source": [
        "green_apple = 100\n",
        "summer_orange = 500\n",
        "sales_tax = 0.1\n",
        "price = int((green_apple * 5 + summer_orange * 2) * (1.0 + sales_tax))\n",
        "print(price)"
      ],
      "execution_count": 0,
      "outputs": [
        {
          "output_type": "stream",
          "text": [
            "1650\n"
          ],
          "name": "stdout"
        }
      ]
    },
    {
      "cell_type": "markdown",
      "metadata": {
        "id": "hMCon6H-7sAq",
        "colab_type": "text"
      },
      "source": [
        "## 2.3 データ構造\n"
      ]
    },
    {
      "cell_type": "markdown",
      "metadata": {
        "id": "xJgEueQj9mNm",
        "colab_type": "text"
      },
      "source": [
        "### 2.3.1 リスト"
      ]
    },
    {
      "cell_type": "markdown",
      "metadata": {
        "id": "23M4Sjiq9pLf",
        "colab_type": "text"
      },
      "source": [
        "リスト 2.3.1, 2.3.2, 2.3.3"
      ]
    },
    {
      "cell_type": "code",
      "metadata": {
        "id": "OQMafn5c7qJB",
        "colab_type": "code",
        "colab": {}
      },
      "source": [
        "p1 = 10000  # 1月分\n",
        "p2 = 20000  # 2月分\n",
        "p3 = 100000 # 3月分\n",
        "p4 = 1000   # 4月分\n",
        "p5 = 200000 # 5月分"
      ],
      "execution_count": 0,
      "outputs": []
    },
    {
      "cell_type": "markdown",
      "metadata": {
        "id": "P2xNULK-99rk",
        "colab_type": "text"
      },
      "source": [
        "↓"
      ]
    },
    {
      "cell_type": "code",
      "metadata": {
        "id": "3hXvppMF58DW",
        "colab_type": "code",
        "outputId": "cf9db05c-7d8c-46c3-859a-42c9aed29839",
        "colab": {
          "base_uri": "https://localhost:8080/",
          "height": 34
        }
      },
      "source": [
        "prices = [10000, 20000, 100000, 1000, 200000]\n",
        "print(type(prices))"
      ],
      "execution_count": 0,
      "outputs": [
        {
          "output_type": "stream",
          "text": [
            "<class 'list'>\n"
          ],
          "name": "stdout"
        }
      ]
    },
    {
      "cell_type": "code",
      "metadata": {
        "id": "iub0bODl-HOV",
        "colab_type": "code",
        "outputId": "7dbea898-99b6-49ff-9b06-f0eef374fe0b",
        "colab": {
          "base_uri": "https://localhost:8080/",
          "height": 68
        }
      },
      "source": [
        "print(prices[0])\n",
        "print(prices[0])\n",
        "print(type(prices[0]))"
      ],
      "execution_count": 0,
      "outputs": [
        {
          "output_type": "stream",
          "text": [
            "10000\n",
            "10000\n",
            "<class 'int'>\n"
          ],
          "name": "stdout"
        }
      ]
    },
    {
      "cell_type": "markdown",
      "metadata": {
        "id": "HfK-BlC4ACia",
        "colab_type": "text"
      },
      "source": [
        "リスト 2.3.4"
      ]
    },
    {
      "cell_type": "code",
      "metadata": {
        "id": "kOzIi-qiABOO",
        "colab_type": "code",
        "outputId": "3a1b19f6-20e7-4fc2-f1ce-0d8098dd036e",
        "colab": {
          "base_uri": "https://localhost:8080/",
          "height": 68
        }
      },
      "source": [
        "print(prices[0])\n",
        "prices[0] = 20\n",
        "print(prices[0])\n",
        "print(prices)"
      ],
      "execution_count": 0,
      "outputs": [
        {
          "output_type": "stream",
          "text": [
            "10000\n",
            "20\n",
            "[20, 20000, 100000, 1000, 200000]\n"
          ],
          "name": "stdout"
        }
      ]
    },
    {
      "cell_type": "markdown",
      "metadata": {
        "id": "sgZNyptaBAM2",
        "colab_type": "text"
      },
      "source": [
        "リスト 2.3.5"
      ]
    },
    {
      "cell_type": "code",
      "metadata": {
        "id": "xRJbRcbPBAvm",
        "colab_type": "code",
        "outputId": "f4742adf-f51f-412d-d865-55d95ca09ed5",
        "colab": {
          "base_uri": "https://localhost:8080/",
          "height": 34
        }
      },
      "source": [
        "print(len(prices))"
      ],
      "execution_count": 0,
      "outputs": [
        {
          "output_type": "stream",
          "text": [
            "5\n"
          ],
          "name": "stdout"
        }
      ]
    },
    {
      "cell_type": "markdown",
      "metadata": {
        "id": "KRB0dS15BAxw",
        "colab_type": "text"
      },
      "source": [
        "リスト 2.3.6\n",
        "\n",
        "文字列の分割"
      ]
    },
    {
      "cell_type": "code",
      "metadata": {
        "id": "cf7ydHPiBN9l",
        "colab_type": "code",
        "outputId": "615aa2b9-ed66-4917-ee03-34b65b3c4d7e",
        "colab": {
          "base_uri": "https://localhost:8080/",
          "height": 85
        }
      },
      "source": [
        "string = \"a new stereophonic sound spectacular\"\n",
        "slist = string.split(\" \")\n",
        "print(string)\n",
        "print(slist)\n",
        "print(type(string))\n",
        "print(type(slist))"
      ],
      "execution_count": 0,
      "outputs": [
        {
          "output_type": "stream",
          "text": [
            "a new stereophonic sound spectacular\n",
            "['a', 'new', 'stereophonic', 'sound', 'spectacular']\n",
            "<class 'str'>\n",
            "<class 'list'>\n"
          ],
          "name": "stdout"
        }
      ]
    },
    {
      "cell_type": "markdown",
      "metadata": {
        "id": "96f0OQDFBbfT",
        "colab_type": "text"
      },
      "source": [
        "リスト 2.3.7\n",
        "\n",
        "リストの結合には\n",
        "join()メソッドを使う。"
      ]
    },
    {
      "cell_type": "code",
      "metadata": {
        "id": "Usb-Vkc5Brlo",
        "colab_type": "code",
        "outputId": "c58d28ce-7a11-402b-ecce-fce90d3384f0",
        "colab": {
          "base_uri": "https://localhost:8080/",
          "height": 34
        }
      },
      "source": [
        "slist = ['a', 'new', 'stereophonic', 'sound', 'spectacular']\n",
        "string2 = \" \".join(slist)\n",
        "print(string2)"
      ],
      "execution_count": 0,
      "outputs": [
        {
          "output_type": "stream",
          "text": [
            "a new stereophonic sound spectacular\n"
          ],
          "name": "stdout"
        }
      ]
    },
    {
      "cell_type": "markdown",
      "metadata": {
        "id": "AEHQMPlgB9xz",
        "colab_type": "text"
      },
      "source": [
        "リスト 2.3.8\n",
        "\n",
        "文字列の置換には\n",
        "replace()メソッドが使える。 元の文字列は変化させない。"
      ]
    },
    {
      "cell_type": "code",
      "metadata": {
        "id": "F9MBfhIzBoOm",
        "colab_type": "code",
        "outputId": "a7c28206-8521-4d6f-cbaa-2a561e79ca3f",
        "colab": {
          "base_uri": "https://localhost:8080/",
          "height": 51
        }
      },
      "source": [
        "string = \"a new stereophonic sound spectacular\"\n",
        "srep = string.replace('s', 'S')\n",
        "print(srep)\n",
        "print(string)"
      ],
      "execution_count": 0,
      "outputs": [
        {
          "output_type": "stream",
          "text": [
            "a new Stereophonic Sound Spectacular\n",
            "a new stereophonic sound spectacular\n"
          ],
          "name": "stdout"
        }
      ]
    },
    {
      "cell_type": "markdown",
      "metadata": {
        "id": "IeKyfp04BblO",
        "colab_type": "text"
      },
      "source": [
        "リスト 2.3.9\n",
        "\n",
        "空白を取り払う。\n",
        "\n",
        "- strip()  : 両端\n",
        "- rstrip() : 右側"
      ]
    },
    {
      "cell_type": "code",
      "metadata": {
        "id": "jJlSrF6jDItO",
        "colab_type": "code",
        "outputId": "0c7a21bf-a644-4edf-fb7c-bdd3fac48a56",
        "colab": {
          "base_uri": "https://localhost:8080/",
          "height": 34
        }
      },
      "source": [
        "string = \"   foo      \" # 両端に空白\n",
        "srp = string.strip()\n",
        "print(srp)"
      ],
      "execution_count": 0,
      "outputs": [
        {
          "output_type": "stream",
          "text": [
            "foo\n"
          ],
          "name": "stdout"
        }
      ]
    },
    {
      "cell_type": "markdown",
      "metadata": {
        "id": "SRRwT2XlDTPM",
        "colab_type": "text"
      },
      "source": [
        "リスト 2.3.10\n",
        "\n",
        "スライス:\n",
        "- list[ 取り出す最初のインデックス値 : 取り出す最後のインデックス値 + 1] とする。\n",
        "- 例えば、list[2:4] ならlistのインデックス2,3の値(3,4番目の要素)が取得できる。\n",
        "- list[2:], list[:3], list[:]のように、数字を省略できる。"
      ]
    },
    {
      "cell_type": "code",
      "metadata": {
        "id": "-oZKsyOxEpIJ",
        "colab_type": "code",
        "outputId": "e9dadefd-145c-4d4e-da33-5e3abd89a595",
        "colab": {
          "base_uri": "https://localhost:8080/",
          "height": 68
        }
      },
      "source": [
        "prices = [1000, 20000, 100000, 1000, 200000]\n",
        "p1 = prices[2:4]\n",
        "p2 = prices[2:]\n",
        "p3 = prices[:4]\n",
        "print(p1)\n",
        "print(p2)\n",
        "print(p3)"
      ],
      "execution_count": 0,
      "outputs": [
        {
          "output_type": "stream",
          "text": [
            "[100000, 1000]\n",
            "[100000, 1000, 200000]\n",
            "[1000, 20000, 100000, 1000]\n"
          ],
          "name": "stdout"
        }
      ]
    },
    {
      "cell_type": "markdown",
      "metadata": {
        "id": "lAo-YCaKHOZW",
        "colab_type": "text"
      },
      "source": [
        "リスト 2.3.11\n",
        "\n",
        "スライスされたリストの要素を変更しても元のリストは変わらない。"
      ]
    },
    {
      "cell_type": "code",
      "metadata": {
        "id": "wBoWrgebHT2o",
        "colab_type": "code",
        "outputId": "756ef7d1-0287-4c92-a0f0-4d6a9c6a4a41",
        "colab": {
          "base_uri": "https://localhost:8080/",
          "height": 68
        }
      },
      "source": [
        "prices = [1000, 20000, 100000, 1000, 200000]\n",
        "p1 = prices[2:4]\n",
        "print(p1)\n",
        "p1[0] = \"hoge\"\n",
        "print(p1)\n",
        "print(prices)"
      ],
      "execution_count": 0,
      "outputs": [
        {
          "output_type": "stream",
          "text": [
            "[100000, 1000]\n",
            "['hoge', 1000]\n",
            "[1000, 20000, 100000, 1000, 200000]\n"
          ],
          "name": "stdout"
        }
      ]
    },
    {
      "cell_type": "markdown",
      "metadata": {
        "id": "ZFMQFqGqHigk",
        "colab_type": "text"
      },
      "source": [
        "リスト 2.3.11と12の間"
      ]
    },
    {
      "cell_type": "code",
      "metadata": {
        "id": "c7HwuHgqIabB",
        "colab_type": "code",
        "outputId": "2559659c-4310-46a3-bb44-e9767585ca11",
        "colab": {
          "base_uri": "https://localhost:8080/",
          "height": 34
        }
      },
      "source": [
        "prices = [10, 20000, 100000, 1000, 200000]\n",
        "prices.append(1234)\n",
        "print(prices)"
      ],
      "execution_count": 0,
      "outputs": [
        {
          "output_type": "stream",
          "text": [
            "[10, 20000, 100000, 1000, 200000, 1234]\n"
          ],
          "name": "stdout"
        }
      ]
    },
    {
      "cell_type": "markdown",
      "metadata": {
        "id": "Skul2KVTH_c-",
        "colab_type": "text"
      },
      "source": [
        "リスト 2.3.12\n",
        "\n",
        "リストの連結"
      ]
    },
    {
      "cell_type": "code",
      "metadata": {
        "id": "8i5ctN_5In6w",
        "colab_type": "code",
        "outputId": "61216701-eea5-4e81-b01e-18a8a4e06d60",
        "colab": {
          "base_uri": "https://localhost:8080/",
          "height": 34
        }
      },
      "source": [
        "humans = ['Alice', 'Mad Hatter', 'Queen', 'King']\n",
        "animals = ['Rabbit', 'Mouse', 'Puppy', 'Caterpillar', 'Cat']\n",
        "chars = humans + animals\n",
        "print(chars)"
      ],
      "execution_count": 0,
      "outputs": [
        {
          "output_type": "stream",
          "text": [
            "['Alice', 'Mad Hatter', 'Queen', 'King', 'Rabbit', 'Mouse', 'Puppy', 'Caterpillar', 'Cat']\n"
          ],
          "name": "stdout"
        }
      ]
    },
    {
      "cell_type": "markdown",
      "metadata": {
        "id": "wv1QGdsvJLVm",
        "colab_type": "text"
      },
      "source": [
        "Tips\n",
        "\n",
        "- Ctrl + M + M でテキストセルに変換\n",
        "- Ctrl + M + Y でコードセルに変換"
      ]
    },
    {
      "cell_type": "markdown",
      "metadata": {
        "id": "Pgoq7P2iJ2M_",
        "colab_type": "text"
      },
      "source": [
        "リスト 2.3.13\n",
        "\n",
        "sorted()関数で並び替え.  \n",
        "list.sort() だと、破壊的な変更.\n",
        "\n",
        "降順にするためには引数に`reverse = True`とする.\n"
      ]
    },
    {
      "cell_type": "code",
      "metadata": {
        "id": "egTpV0sbKDcg",
        "colab_type": "code",
        "outputId": "e7db602d-2741-43ec-f03c-fce0d4dec2e5",
        "colab": {
          "base_uri": "https://localhost:8080/",
          "height": 68
        }
      },
      "source": [
        "prices = [10, 20000, 100000, 1000, 200000]\n",
        "sprices = sorted(prices)\n",
        "print(sprices)\n",
        "print(prices)\n",
        "prices.sort()\n",
        "print(prices)"
      ],
      "execution_count": 0,
      "outputs": [
        {
          "output_type": "stream",
          "text": [
            "[10, 1000, 20000, 100000, 200000]\n",
            "[10, 20000, 100000, 1000, 200000]\n",
            "[10, 1000, 20000, 100000, 200000]\n"
          ],
          "name": "stdout"
        }
      ]
    },
    {
      "cell_type": "markdown",
      "metadata": {
        "id": "xSIUarp2Q8v4",
        "colab_type": "text"
      },
      "source": [
        "リスト 2.3.14\n",
        "\n",
        "リストに値が存在するかどうか"
      ]
    },
    {
      "cell_type": "code",
      "metadata": {
        "id": "snj9IihbKmYj",
        "colab_type": "code",
        "outputId": "a86ba1b8-a950-4f77-f7ca-723a347ae602",
        "colab": {
          "base_uri": "https://localhost:8080/",
          "height": 51
        }
      },
      "source": [
        "humans = ['Alice', 'Mad Hatter', 'Queen', 'King']\n",
        "t = 'Rabbit' in humans\n",
        "print(t)\n",
        "s = 'Rabbit' not in humans\n",
        "print(s)"
      ],
      "execution_count": 0,
      "outputs": [
        {
          "output_type": "stream",
          "text": [
            "False\n",
            "True\n"
          ],
          "name": "stdout"
        }
      ]
    },
    {
      "cell_type": "markdown",
      "metadata": {
        "id": "SM0yHXBASBkw",
        "colab_type": "text"
      },
      "source": [
        "### 2.3.2 タプル\n",
        "\n",
        "要素を変更できない. このことを\"イミュータブルである\"、という.\n",
        "\n",
        "対義語: ミュータブル(変更可能)  \n",
        "関連語: プリミティブ型 ( 言語の仕様であらかじめ定義されている型. 定義にほかのデータ型を用いない.)"
      ]
    },
    {
      "cell_type": "markdown",
      "metadata": {
        "id": "1IKeu-4oRNeG",
        "colab_type": "text"
      },
      "source": [
        "リスト 2.3.15"
      ]
    },
    {
      "cell_type": "code",
      "metadata": {
        "id": "GSe4stOVRG5j",
        "colab_type": "code",
        "outputId": "0f967fc2-2aa4-49bc-fb95-f8b0e7a4e788",
        "colab": {
          "base_uri": "https://localhost:8080/",
          "height": 51
        }
      },
      "source": [
        "prices = (1000, 20000, 100000, 1000, 200000)\n",
        "print(type(prices))\n",
        "print(prices)"
      ],
      "execution_count": 0,
      "outputs": [
        {
          "output_type": "stream",
          "text": [
            "<class 'tuple'>\n",
            "(1000, 20000, 100000, 1000, 200000)\n"
          ],
          "name": "stdout"
        }
      ]
    },
    {
      "cell_type": "markdown",
      "metadata": {
        "id": "PERY76DKWIwk",
        "colab_type": "text"
      },
      "source": [
        "リスト 2.3.16\n",
        "\n",
        "再代入はできない。"
      ]
    },
    {
      "cell_type": "code",
      "metadata": {
        "id": "8OYjaezFWPKr",
        "colab_type": "code",
        "outputId": "63439333-711b-4d28-fb10-d89aa74dc36a",
        "colab": {
          "base_uri": "https://localhost:8080/",
          "height": 202
        }
      },
      "source": [
        "prices = (1000, 20000, 100000, 1000, 200000)\n",
        "prices[1] = 20 # 書き換えはエラーが出る\n",
        "print(prices)"
      ],
      "execution_count": 0,
      "outputs": [
        {
          "output_type": "error",
          "ename": "TypeError",
          "evalue": "ignored",
          "traceback": [
            "\u001b[0;31m---------------------------------------------------------------------------\u001b[0m",
            "\u001b[0;31mTypeError\u001b[0m                                 Traceback (most recent call last)",
            "\u001b[0;32m<ipython-input-39-4eaa20160e19>\u001b[0m in \u001b[0;36m<module>\u001b[0;34m()\u001b[0m\n\u001b[1;32m      1\u001b[0m \u001b[0mprices\u001b[0m \u001b[0;34m=\u001b[0m \u001b[0;34m(\u001b[0m\u001b[0;36m1000\u001b[0m\u001b[0;34m,\u001b[0m \u001b[0;36m20000\u001b[0m\u001b[0;34m,\u001b[0m \u001b[0;36m100000\u001b[0m\u001b[0;34m,\u001b[0m \u001b[0;36m1000\u001b[0m\u001b[0;34m,\u001b[0m \u001b[0;36m200000\u001b[0m\u001b[0;34m)\u001b[0m\u001b[0;34m\u001b[0m\u001b[0;34m\u001b[0m\u001b[0m\n\u001b[0;32m----> 2\u001b[0;31m \u001b[0mprices\u001b[0m\u001b[0;34m[\u001b[0m\u001b[0;36m1\u001b[0m\u001b[0;34m]\u001b[0m \u001b[0;34m=\u001b[0m \u001b[0;36m20\u001b[0m \u001b[0;31m# 書き換えはエラーが出る\u001b[0m\u001b[0;34m\u001b[0m\u001b[0;34m\u001b[0m\u001b[0m\n\u001b[0m\u001b[1;32m      3\u001b[0m \u001b[0mprint\u001b[0m\u001b[0;34m(\u001b[0m\u001b[0mprices\u001b[0m\u001b[0;34m)\u001b[0m\u001b[0;34m\u001b[0m\u001b[0;34m\u001b[0m\u001b[0m\n",
            "\u001b[0;31mTypeError\u001b[0m: 'tuple' object does not support item assignment"
          ]
        }
      ]
    },
    {
      "cell_type": "markdown",
      "metadata": {
        "id": "QBDdQl7pWVhM",
        "colab_type": "text"
      },
      "source": [
        "リスト 2.3.17\n",
        "\n",
        "リストとタプルは、互いに変換できる。\n",
        "- list()\n",
        "> 引数にタプルを入れるとリストに変換する\n",
        "- tuple()\n",
        "> 引数にリストを入れるとタプルに変換する  \n",
        "> スペルに注意！ t**u**ple です。\n",
        "\n",
        "タプルの使われ方:\n",
        "\n",
        "- 関数の引数はタプルとして渡される.\n",
        "- 関数の戻り値として複数の値を返す時\n",
        "- 辞書のキー"
      ]
    },
    {
      "cell_type": "code",
      "metadata": {
        "id": "2X_u5i4xb-XU",
        "colab_type": "code",
        "outputId": "f348ed68-892e-4cd6-cde6-132f166979e1",
        "colab": {
          "base_uri": "https://localhost:8080/",
          "height": 51
        }
      },
      "source": [
        "humans = ('Alice', 'Mat Hatter', 'Queen', 'King') # tuple\n",
        "animals = ['Rabbit', 'Mouse', 'Puppy', 'Caterpillar', 'Cat'] # list\n",
        "h = list(humans)\n",
        "print(h)\n",
        "a = tuple(animals)\n",
        "print(a)"
      ],
      "execution_count": 0,
      "outputs": [
        {
          "output_type": "stream",
          "text": [
            "['Alice', 'Mat Hatter', 'Queen', 'King']\n",
            "('Rabbit', 'Mouse', 'Puppy', 'Caterpillar', 'Cat')\n"
          ],
          "name": "stdout"
        }
      ]
    },
    {
      "cell_type": "markdown",
      "metadata": {
        "id": "AFxj6ZV7DZf7",
        "colab_type": "text"
      },
      "source": [
        "### 2.3.3 辞書\n",
        "\n",
        "辞書のインデックスには\n",
        "\n",
        "- タプル\n",
        "- 整数\n",
        "- 浮動小数点\n",
        "\n",
        "など、イミュータブル(変更不可)であれば使える。\n",
        "\n",
        "辞書は、ほかの言語ではハッシュや連想配列などと呼ばれるデータ構造である。\n"
      ]
    },
    {
      "cell_type": "markdown",
      "metadata": {
        "id": "eUV7kxpwJ1E-",
        "colab_type": "text"
      },
      "source": [
        "リスト 2.3.18"
      ]
    },
    {
      "cell_type": "code",
      "metadata": {
        "id": "_xmEBzd2D4Vo",
        "colab_type": "code",
        "outputId": "11bad90d-7294-4aac-8a12-c203da40b95f",
        "colab": {
          "base_uri": "https://localhost:8080/",
          "height": 51
        }
      },
      "source": [
        "sales = {'january': 10000, 'february': 20000, 'march': 100000, 'april': 1000, 'may': 200000 }\n",
        "print(sales['january'])\n",
        "print(type(sales))"
      ],
      "execution_count": 0,
      "outputs": [
        {
          "output_type": "stream",
          "text": [
            "10000\n",
            "<class 'dict'>\n"
          ],
          "name": "stdout"
        }
      ]
    },
    {
      "cell_type": "markdown",
      "metadata": {
        "id": "MfQmUW_LEPV2",
        "colab_type": "text"
      },
      "source": [
        "リスト 2.3.19 \n",
        "\n",
        "順番はない。よって、スライスは使えない。"
      ]
    },
    {
      "cell_type": "code",
      "metadata": {
        "colab_type": "code",
        "id": "5nkdSCO8J_jM",
        "outputId": "cbc78846-2131-415e-a301-fbdd65b6405b",
        "colab": {
          "base_uri": "https://localhost:8080/",
          "height": 202
        }
      },
      "source": [
        "sales = {'january': 10000, 'february': 20000, 'march': 100000, 'april': 1000, 'may': 200000 }\n",
        "print(sales['january': 'april']) # この書き方はできない。\n",
        "print(type(sales))"
      ],
      "execution_count": 0,
      "outputs": [
        {
          "output_type": "error",
          "ename": "TypeError",
          "evalue": "ignored",
          "traceback": [
            "\u001b[0;31m---------------------------------------------------------------------------\u001b[0m",
            "\u001b[0;31mTypeError\u001b[0m                                 Traceback (most recent call last)",
            "\u001b[0;32m<ipython-input-42-17e15865c738>\u001b[0m in \u001b[0;36m<module>\u001b[0;34m()\u001b[0m\n\u001b[1;32m      1\u001b[0m \u001b[0msales\u001b[0m \u001b[0;34m=\u001b[0m \u001b[0;34m{\u001b[0m\u001b[0;34m'january'\u001b[0m\u001b[0;34m:\u001b[0m \u001b[0;36m10000\u001b[0m\u001b[0;34m,\u001b[0m \u001b[0;34m'february'\u001b[0m\u001b[0;34m:\u001b[0m \u001b[0;36m20000\u001b[0m\u001b[0;34m,\u001b[0m \u001b[0;34m'march'\u001b[0m\u001b[0;34m:\u001b[0m \u001b[0;36m100000\u001b[0m\u001b[0;34m,\u001b[0m \u001b[0;34m'april'\u001b[0m\u001b[0;34m:\u001b[0m \u001b[0;36m1000\u001b[0m\u001b[0;34m,\u001b[0m \u001b[0;34m'may'\u001b[0m\u001b[0;34m:\u001b[0m \u001b[0;36m200000\u001b[0m \u001b[0;34m}\u001b[0m\u001b[0;34m\u001b[0m\u001b[0;34m\u001b[0m\u001b[0m\n\u001b[0;32m----> 2\u001b[0;31m \u001b[0mprint\u001b[0m\u001b[0;34m(\u001b[0m\u001b[0msales\u001b[0m\u001b[0;34m[\u001b[0m\u001b[0;34m'january'\u001b[0m\u001b[0;34m:\u001b[0m \u001b[0;34m'april'\u001b[0m\u001b[0;34m]\u001b[0m\u001b[0;34m)\u001b[0m \u001b[0;31m# この書き方はできない。\u001b[0m\u001b[0;34m\u001b[0m\u001b[0;34m\u001b[0m\u001b[0m\n\u001b[0m\u001b[1;32m      3\u001b[0m \u001b[0mprint\u001b[0m\u001b[0;34m(\u001b[0m\u001b[0mtype\u001b[0m\u001b[0;34m(\u001b[0m\u001b[0msales\u001b[0m\u001b[0;34m)\u001b[0m\u001b[0;34m)\u001b[0m\u001b[0;34m\u001b[0m\u001b[0;34m\u001b[0m\u001b[0m\n",
            "\u001b[0;31mTypeError\u001b[0m: unhashable type: 'slice'"
          ]
        }
      ]
    },
    {
      "cell_type": "markdown",
      "metadata": {
        "id": "j4cP8r09KJoP",
        "colab_type": "text"
      },
      "source": [
        "リスト 2.3.20"
      ]
    },
    {
      "cell_type": "code",
      "metadata": {
        "id": "7dAl1cM1KTqe",
        "colab_type": "code",
        "outputId": "8666d8d1-e70e-4af2-89be-0b401ecaecd8",
        "colab": {
          "base_uri": "https://localhost:8080/",
          "height": 34
        }
      },
      "source": [
        "birthday = {}\n",
        "\n",
        "birthday['Alice'] = '4/1'\n",
        "birthday['Queen'] = '12/12'\n",
        "birthday['King'] = '7/3'\n",
        "birthday.pop('Alice')\n",
        "print(birthday)\n"
      ],
      "execution_count": 0,
      "outputs": [
        {
          "output_type": "stream",
          "text": [
            "{'Queen': '12/12', 'King': '7/3'}\n"
          ],
          "name": "stdout"
        }
      ]
    },
    {
      "cell_type": "markdown",
      "metadata": {
        "id": "Az1q0L2pKjeD",
        "colab_type": "text"
      },
      "source": [
        "リスト 2.3.21\n",
        "\n",
        "items()でkeyとvalueのペアを取得  \n",
        "タプルで表現される"
      ]
    },
    {
      "cell_type": "code",
      "metadata": {
        "colab_type": "code",
        "id": "YqRi9XO5Nf9F",
        "outputId": "7a79e91c-a046-4b23-c7ba-621369a527a3",
        "colab": {
          "base_uri": "https://localhost:8080/",
          "height": 51
        }
      },
      "source": [
        "sales = {'january': 10000, 'february': 20000, 'march': 100000, 'april': 1000, 'may': 200000 }\n",
        "print(sales.items())\n",
        "print(list(sales.items()))"
      ],
      "execution_count": 0,
      "outputs": [
        {
          "output_type": "stream",
          "text": [
            "dict_items([('january', 10000), ('february', 20000), ('march', 100000), ('april', 1000), ('may', 200000)])\n",
            "[('january', 10000), ('february', 20000), ('march', 100000), ('april', 1000), ('may', 200000)]\n"
          ],
          "name": "stdout"
        }
      ]
    },
    {
      "cell_type": "markdown",
      "metadata": {
        "id": "GD-nmxicNmt0",
        "colab_type": "text"
      },
      "source": [
        "リスト 2.3.22\n",
        "\n",
        "辞書のコピーにはcopy()を使う。\n",
        "= を使っても別名ができるだけ。"
      ]
    },
    {
      "cell_type": "code",
      "metadata": {
        "id": "R7tcrPogPWnb",
        "colab_type": "code",
        "outputId": "ec260b6f-3501-4ca7-fc32-9a1ba9cd3029",
        "colab": {
          "base_uri": "https://localhost:8080/",
          "height": 102
        }
      },
      "source": [
        "sales_tokyo = {'january': 10000, 'february': 20000, 'march': 100000, 'april': 1000, 'may': 200000 }\n",
        "sales_sapporo = sales_tokyo.copy()\n",
        "sales_sapporo['january'] = 5000\n",
        "print(sales_sapporo)\n",
        "print(sales_tokyo)\n",
        "print()\n",
        "\n",
        "alias = sales_sapporo\n",
        "alias['february'] = 99\n",
        "print(alias)\n",
        "print(sales_sapporo)"
      ],
      "execution_count": 0,
      "outputs": [
        {
          "output_type": "stream",
          "text": [
            "{'january': 5000, 'february': 20000, 'march': 100000, 'april': 1000, 'may': 200000}\n",
            "{'january': 10000, 'february': 20000, 'march': 100000, 'april': 1000, 'may': 200000}\n",
            "\n",
            "{'january': 5000, 'february': 99, 'march': 100000, 'april': 1000, 'may': 200000}\n",
            "{'january': 5000, 'february': 99, 'march': 100000, 'april': 1000, 'may': 200000}\n"
          ],
          "name": "stdout"
        }
      ]
    },
    {
      "cell_type": "markdown",
      "metadata": {
        "id": "bn3VCISDPp9t",
        "colab_type": "text"
      },
      "source": [
        "## 2.4 基本構文\n",
        "\n",
        "一部割愛"
      ]
    },
    {
      "cell_type": "markdown",
      "metadata": {
        "id": "j0oJb01mRHw_",
        "colab_type": "text"
      },
      "source": [
        "リスト 2.4.4\n",
        "\n",
        "複数の配列を同時にループしたいときには、**zip()**を用いる。\n",
        "zip()は一番少ない要素数に合わせる。一番多い要素数に合わせたいなら[itertools.zip_longest](https://note.nkmk.me/python-zip-usage-for/)を使用する。"
      ]
    },
    {
      "cell_type": "code",
      "metadata": {
        "id": "xp3ScDyZRlOp",
        "colab_type": "code",
        "outputId": "4cfbf98c-5855-443f-86cc-5890bc91aec9",
        "colab": {
          "base_uri": "https://localhost:8080/",
          "height": 119
        }
      },
      "source": [
        "humans = ['Alice', 'Mat Hatter', 'Queen', 'King']\n",
        "animals = ['Rabbit', 'Mouse', 'Puppy', 'Caterpillar', 'Cat']\n",
        "for h, a in zip (humans, animals):\n",
        "  print(\"human = {0:10}\\tanimals = {1:10}\".format(h, a))\n",
        "\n",
        "print()\n",
        "print(zip(humans, animals))"
      ],
      "execution_count": 0,
      "outputs": [
        {
          "output_type": "stream",
          "text": [
            "human = Alice     \tanimals = Rabbit    \n",
            "human = Mat Hatter\tanimals = Mouse     \n",
            "human = Queen     \tanimals = Puppy     \n",
            "human = King      \tanimals = Caterpillar\n",
            "\n",
            "<zip object at 0x7f3e45dff208>\n"
          ],
          "name": "stdout"
        }
      ]
    },
    {
      "cell_type": "markdown",
      "metadata": {
        "id": "ixdihiCjRqQV",
        "colab_type": "text"
      },
      "source": [
        "リスト 2.4.5\n",
        "\n",
        "index値とvalueを同時に取得するには**enumerate()**を使う。\n"
      ]
    },
    {
      "cell_type": "code",
      "metadata": {
        "id": "g4tWH6KtVD4u",
        "colab_type": "code",
        "outputId": "447bd32e-c79d-41d6-8e2c-38e49bbebd64",
        "colab": {
          "base_uri": "https://localhost:8080/",
          "height": 85
        }
      },
      "source": [
        "humans = ['Alice', 'Mat Hatter', 'Queen', 'King']\n",
        "for i, name in enumerate(humans):\n",
        "  print(i, name)"
      ],
      "execution_count": 0,
      "outputs": [
        {
          "output_type": "stream",
          "text": [
            "0 Alice\n",
            "1 Mat Hatter\n",
            "2 Queen\n",
            "3 King\n"
          ],
          "name": "stdout"
        }
      ]
    },
    {
      "cell_type": "markdown",
      "metadata": {
        "id": "GF-LxpciVGk1",
        "colab_type": "text"
      },
      "source": [
        "リスト　2.4.6\n",
        "\n",
        "内包表記"
      ]
    },
    {
      "cell_type": "code",
      "metadata": {
        "id": "SbDDTkOn8axl",
        "colab_type": "code",
        "outputId": "7c1c6a6d-ebdb-4dec-9eea-f9252f24ba27",
        "colab": {
          "base_uri": "https://localhost:8080/",
          "height": 34
        }
      },
      "source": [
        "nums = [ n for n in range(1,11)]\n",
        "print(nums)"
      ],
      "execution_count": 0,
      "outputs": [
        {
          "output_type": "stream",
          "text": [
            "[1, 2, 3, 4, 5, 6, 7, 8, 9, 10]\n"
          ],
          "name": "stdout"
        }
      ]
    },
    {
      "cell_type": "markdown",
      "metadata": {
        "id": "m8QiUher8hku",
        "colab_type": "text"
      },
      "source": [
        "リスト 2.4.10"
      ]
    },
    {
      "cell_type": "code",
      "metadata": {
        "id": "Ea2srgdL8m8a",
        "colab_type": "code",
        "outputId": "2a6b224c-ddee-4573-c3d1-84eb059486b2",
        "colab": {
          "base_uri": "https://localhost:8080/",
          "height": 34
        }
      },
      "source": [
        "nums = [ n**2 + 2*n -3 for n in range(1, 11)]\n",
        "print(nums)"
      ],
      "execution_count": 0,
      "outputs": [
        {
          "output_type": "stream",
          "text": [
            "[0, 5, 12, 21, 32, 45, 60, 77, 96, 117]\n"
          ],
          "name": "stdout"
        }
      ]
    },
    {
      "cell_type": "markdown",
      "metadata": {
        "id": "_8StdPFa8s6p",
        "colab_type": "text"
      },
      "source": [
        "リスト 2.4.11\n",
        "\n",
        "内包表記の中に条件式も追加できる"
      ]
    },
    {
      "cell_type": "code",
      "metadata": {
        "id": "YJVrEHzA9LJ_",
        "colab_type": "code",
        "outputId": "74ff6d21-6f32-4214-b46b-e9c8b0d351df",
        "colab": {
          "base_uri": "https://localhost:8080/",
          "height": 34
        }
      },
      "source": [
        "nums = [ n**2 + 2*n -3 for n in range(1,11) if n%2 == 0]\n",
        "print(nums)"
      ],
      "execution_count": 0,
      "outputs": [
        {
          "output_type": "stream",
          "text": [
            "[5, 21, 45, 77, 117]\n"
          ],
          "name": "stdout"
        }
      ]
    },
    {
      "cell_type": "markdown",
      "metadata": {
        "id": "0JMa_Od_9XSD",
        "colab_type": "text"
      },
      "source": [
        "## 2.5 関数\n"
      ]
    },
    {
      "cell_type": "markdown",
      "metadata": {
        "id": "26N3ZrnC9p0X",
        "colab_type": "text"
      },
      "source": [
        "### 2.5.2 関数の作成\n",
        "\n"
      ]
    },
    {
      "cell_type": "markdown",
      "metadata": {
        "id": "k96AB3gM930c",
        "colab_type": "text"
      },
      "source": [
        "リスト 2.5.1\n",
        "\n",
        "def文を使って定義できる。"
      ]
    },
    {
      "cell_type": "code",
      "metadata": {
        "id": "04gge_Ep-8sH",
        "colab_type": "code",
        "colab": {}
      },
      "source": [
        "def hello_world():\n",
        "  print(\"hello world!\")"
      ],
      "execution_count": 0,
      "outputs": []
    },
    {
      "cell_type": "markdown",
      "metadata": {
        "id": "-_wyA_14_dWS",
        "colab_type": "text"
      },
      "source": [
        "リスト 2.5.2\n",
        "\n",
        "呼び出し"
      ]
    },
    {
      "cell_type": "code",
      "metadata": {
        "id": "PRGQWexy_ipp",
        "colab_type": "code",
        "outputId": "4cfc88c3-89ae-43e4-b6ef-bc8a9554f35f",
        "colab": {
          "base_uri": "https://localhost:8080/",
          "height": 34
        }
      },
      "source": [
        "hello_world()"
      ],
      "execution_count": 0,
      "outputs": [
        {
          "output_type": "stream",
          "text": [
            "hello world!\n"
          ],
          "name": "stdout"
        }
      ]
    },
    {
      "cell_type": "markdown",
      "metadata": {
        "id": "9n_Lj1Af_kIy",
        "colab_type": "text"
      },
      "source": [
        "リスト 2.5.4\n",
        "\n",
        "パラメータxを受け取りyを返す"
      ]
    },
    {
      "cell_type": "code",
      "metadata": {
        "id": "KdkxFJKD_sQR",
        "colab_type": "code",
        "outputId": "48ae2b84-ad88-49de-c96e-56b253d225a5",
        "colab": {
          "base_uri": "https://localhost:8080/",
          "height": 34
        }
      },
      "source": [
        "def f(x):\n",
        "   y = 2 * x\n",
        "   return y\n",
        "\n",
        "x = 5\n",
        "y = f(x)\n",
        "print(y)"
      ],
      "execution_count": 0,
      "outputs": [
        {
          "output_type": "stream",
          "text": [
            "10\n"
          ],
          "name": "stdout"
        }
      ]
    },
    {
      "cell_type": "markdown",
      "metadata": {
        "id": "PTccOXHv_02x",
        "colab_type": "text"
      },
      "source": [
        "リスト 2.5.5\n",
        "\n",
        "引数は複数かける"
      ]
    },
    {
      "cell_type": "code",
      "metadata": {
        "id": "hy-gvXLy_-Jm",
        "colab_type": "code",
        "outputId": "e58d9b14-37f8-4db9-c4a9-aee1126459f5",
        "colab": {
          "base_uri": "https://localhost:8080/",
          "height": 34
        }
      },
      "source": [
        "def gree(name, age, birth, animal):\n",
        "\n",
        "  et = ''\n",
        "  if animal == 'nezumi':\n",
        "    et = 'ne'\n",
        "  elif animal == 'usagi':\n",
        "    et = 'u'\n",
        "  elif animal == 'dragon':\n",
        "    et = 'tatsu'\n",
        "  elif animal == 'hebi':\n",
        "    et = 'mi'\n",
        "  elif animal == 'inoshishi':\n",
        "    et = 'i'\n",
        "  else:\n",
        "    et = animal\n",
        "\n",
        "  s  = 'Hello ' + name + '(' + str(age) + '), '\n",
        "  s += birth + ' 生まれ. 干支は' + et\n",
        "  return s\n",
        "\n",
        "g = gree('yamamoto', 30, '10/22', 'inu')\n",
        "print(g)"
      ],
      "execution_count": 0,
      "outputs": [
        {
          "output_type": "stream",
          "text": [
            "Hello yamamoto(30), 10/22 生まれ. 干支はinu\n"
          ],
          "name": "stdout"
        }
      ]
    },
    {
      "cell_type": "markdown",
      "metadata": {
        "id": "64IrlQZlBUWF",
        "colab_type": "text"
      },
      "source": [
        "リスト 2.5.6\n",
        "\n",
        "`引数名=値`という形で値を渡すことで、引数の順番を気にする必要がなくなる。"
      ]
    },
    {
      "cell_type": "code",
      "metadata": {
        "id": "V4wvNtyuBtYA",
        "colab_type": "code",
        "outputId": "1d5e0e1b-845e-4835-c23f-920dad32e57c",
        "colab": {
          "base_uri": "https://localhost:8080/",
          "height": 34
        }
      },
      "source": [
        "g = gree(name = 'yamamoto', age = 30, birth = '10/22', animal = 'inu')\n",
        "print(g)"
      ],
      "execution_count": 0,
      "outputs": [
        {
          "output_type": "stream",
          "text": [
            "Hello yamamoto(30), 10/22 生まれ. 干支はinu\n"
          ],
          "name": "stdout"
        }
      ]
    },
    {
      "cell_type": "markdown",
      "metadata": {
        "id": "UrZGK0cXB4mr",
        "colab_type": "text"
      },
      "source": [
        "### 2.5.3 スコープ\n",
        "\n",
        "変数が通用する範囲のことをスコープと呼ぶ。例えば、関数の中で宣言した変数は、関数の外では使えない。"
      ]
    },
    {
      "cell_type": "markdown",
      "metadata": {
        "id": "y1fl1cxwDRRx",
        "colab_type": "text"
      },
      "source": [
        "リスト 2.5.8\n",
        "\n",
        "p5はtest_func()のローカルスコープの中身存在する変数(ローカルスコープという)であり、ローカルスコープの外(12行目)からは見えない。よって `name'p5'is not defined (名前p5は定義されてない)`というエラーになる。  \n",
        "すべての関数の外にあるスコープをグローバルスコープといい、そこで定義された変数はグローバル変数という。今回だと、`array`と`b`がグローバル変数である。"
      ]
    },
    {
      "cell_type": "code",
      "metadata": {
        "id": "7SXmsB7VCn2q",
        "colab_type": "code",
        "outputId": "51d73762-625f-4518-a31e-e3d5df69a03a",
        "colab": {
          "base_uri": "https://localhost:8080/",
          "height": 34
        }
      },
      "source": [
        "def test_func(arr):\n",
        "  p5 = 0\n",
        "  for a in arr:\n",
        "    if a > 5:\n",
        "      p5 = a\n",
        "      break\n",
        "  return p5\n",
        "\n",
        "array = [1,2,6,10]\n",
        "b = test_func(array)\n",
        "print(b)\n",
        "# print(p5) # エラーとなる"
      ],
      "execution_count": 0,
      "outputs": [
        {
          "output_type": "stream",
          "text": [
            "6\n"
          ],
          "name": "stdout"
        }
      ]
    },
    {
      "cell_type": "markdown",
      "metadata": {
        "id": "GUJERympC1-1",
        "colab_type": "text"
      },
      "source": [
        "リスト 2.5.9\n",
        "\n",
        "グローバルスコープからはローカル変数を参照することはできないが、ローカル変数からはグローバル変数を参照できる。"
      ]
    },
    {
      "cell_type": "code",
      "metadata": {
        "id": "L7GNBectF8s_",
        "colab_type": "code",
        "outputId": "6b094abe-76e7-4ff4-acf3-7357dc6e1982",
        "colab": {
          "base_uri": "https://localhost:8080/",
          "height": 34
        }
      },
      "source": [
        "array = [1,2,6,10]\n",
        "\n",
        "def test_func():\n",
        "  p5 = 0\n",
        "  for a in array: # グローバル変数のarrayを参照している\n",
        "    if a > 5:\n",
        "      p5 = a\n",
        "      break\n",
        "  return p5\n",
        "\n",
        "b = test_func()\n",
        "print(b)\n"
      ],
      "execution_count": 0,
      "outputs": [
        {
          "output_type": "stream",
          "text": [
            "6\n"
          ],
          "name": "stdout"
        }
      ]
    },
    {
      "cell_type": "markdown",
      "metadata": {
        "id": "boUORnt5GEKT",
        "colab_type": "text"
      },
      "source": [
        "リスト 2.5.10\n",
        "\n",
        "Pythonであｈ、for文やif文はスコープを作らない。"
      ]
    },
    {
      "cell_type": "code",
      "metadata": {
        "id": "ccoTfBNUGbgc",
        "colab_type": "code",
        "outputId": "e0c52d38-1108-4819-9696-555b7add405e",
        "colab": {
          "base_uri": "https://localhost:8080/",
          "height": 68
        }
      },
      "source": [
        "for i in range(5):\n",
        "  x = i\n",
        "  s = \"foo\"\n",
        "\n",
        "print(\"x =\",x)\n",
        "print(\"s =\",s)\n",
        "print(\"i =\",i)"
      ],
      "execution_count": 0,
      "outputs": [
        {
          "output_type": "stream",
          "text": [
            "x = 4\n",
            "s = foo\n",
            "i = 4\n"
          ],
          "name": "stdout"
        }
      ]
    },
    {
      "cell_type": "markdown",
      "metadata": {
        "id": "Nl8K4vSoGhbn",
        "colab_type": "text"
      },
      "source": [
        "リスト 2.5.11\n",
        "\n",
        "内包表記はスコープを作る."
      ]
    },
    {
      "cell_type": "code",
      "metadata": {
        "id": "7fSslAXoG2Jo",
        "colab_type": "code",
        "outputId": "5a12b11a-0ae7-4fa8-9925-796f1db7d246",
        "colab": {
          "base_uri": "https://localhost:8080/",
          "height": 34
        }
      },
      "source": [
        "array = [p**2 for p in range(10)]\n",
        "print(array)\n",
        "# print(p) # エラーになる"
      ],
      "execution_count": 0,
      "outputs": [
        {
          "output_type": "stream",
          "text": [
            "[0, 1, 4, 9, 16, 25, 36, 49, 64, 81]\n"
          ],
          "name": "stdout"
        }
      ]
    },
    {
      "cell_type": "markdown",
      "metadata": {
        "id": "69RLlOK837Lr",
        "colab_type": "text"
      },
      "source": [
        "### 2.5.4 クラスとメソッド"
      ]
    },
    {
      "cell_type": "markdown",
      "metadata": {
        "id": "iqQYxuGS4No6",
        "colab_type": "text"
      },
      "source": [
        "リスト 2.5.12\n",
        "\n",
        "クラスは型のことであり、\n",
        "メソッドんは型を持った変数に紐づけられた関数のことである。\n",
        "\n",
        "例えば、リスト型変数animalsに対して、そこから最後の要素を取り出すpop()メソッドがある。"
      ]
    },
    {
      "cell_type": "code",
      "metadata": {
        "id": "PDdXj1gp5MqJ",
        "colab_type": "code",
        "outputId": "c0d98719-a254-419b-b3f8-b1861e4b9a8d",
        "colab": {
          "base_uri": "https://localhost:8080/",
          "height": 51
        }
      },
      "source": [
        "animals = ['Rabbit', 'Mouse', 'Puppy', 'Caterpillar', 'Cat']\n",
        "r = animals.pop()\n",
        "print(r)\n",
        "print(animals)"
      ],
      "execution_count": 0,
      "outputs": [
        {
          "output_type": "stream",
          "text": [
            "Cat\n",
            "['Rabbit', 'Mouse', 'Puppy', 'Caterpillar']\n"
          ],
          "name": "stdout"
        }
      ]
    },
    {
      "cell_type": "markdown",
      "metadata": {
        "id": "4UYGtJ5m5O4i",
        "colab_type": "text"
      },
      "source": [
        "リスト 2.5.13\n",
        "\n",
        "length, width, heightの3つの値を持ったCubeという新しい方を作成してみる。\n",
        "\n",
        "`__init__`は、コンストラクタである。第一引数に自分自身(self)を置く。コンストラクタ内では、selfに紐づけられるパラメータ(プロパティ)に値を格納している。  \n",
        "メソッドの第一引数にもselfを設定する。\n",
        "\n"
      ]
    },
    {
      "cell_type": "code",
      "metadata": {
        "id": "sCozOAMs601f",
        "colab_type": "code",
        "outputId": "f4595b92-83b9-49b1-9765-3bf10c85ab87",
        "colab": {
          "base_uri": "https://localhost:8080/",
          "height": 51
        }
      },
      "source": [
        "class Cube:\n",
        "  def __init__(self, length, width, height):\n",
        "    self.length = length\n",
        "    self.width  = width\n",
        "    self.height = height\n",
        "\n",
        "  # 表面積を計算する\n",
        "  def area(self):\n",
        "    area1 = self.length * self.height\n",
        "    area2 = self.length * self.width\n",
        "    area3 = self.height * self.width\n",
        "    area = area1 + area2 + area3\n",
        "    return area\n",
        "\n",
        "  # 体積を計算する\n",
        "  def volume(self):\n",
        "    vol = self.length * self.height * self.width\n",
        "    return vol\n",
        "\n",
        "c = Cube(10, 20, 30)\n",
        "print(\"表面積\\t= \", c.area())\n",
        "print(\"体積\\t= \", c.volume())"
      ],
      "execution_count": 0,
      "outputs": [
        {
          "output_type": "stream",
          "text": [
            "表面積\t=  1100\n",
            "体積\t=  6000\n"
          ],
          "name": "stdout"
        }
      ]
    },
    {
      "cell_type": "markdown",
      "metadata": {
        "id": "v0NDHo3gATF_",
        "colab_type": "text"
      },
      "source": [
        "## 2.6 ライブラリの利用"
      ]
    },
    {
      "cell_type": "markdown",
      "metadata": {
        "id": "GZawKhAGAi1a",
        "colab_type": "text"
      },
      "source": [
        "ライブラリとは、いくつかのよく使われる処理をまとめておいて、別のプログラムから呼び出して使いまわせるようにしたプログラムのことである。\n",
        "\n",
        "ライブラリはモジュール及びパッケージという単位で管理されている。  \n",
        "モジュールはいくつかの関数やクラスをまとめたpythonのソースファイルのことである。  \n",
        "パッケージはモジュールをいくつか集めてまとめたものである。\n",
        "\n",
        "標準パッケージにないモジュールは、pipコマンドを使いインストールする必要がある。"
      ]
    },
    {
      "cell_type": "markdown",
      "metadata": {
        "id": "-bKaOMZiExV4",
        "colab_type": "text"
      },
      "source": [
        "### 2.6.1 モジュールのインポート"
      ]
    },
    {
      "cell_type": "markdown",
      "metadata": {
        "id": "4LAast9CE3a6",
        "colab_type": "text"
      },
      "source": [
        "リスト 2.6.1\n",
        "\n",
        "あるモジュールを利用するには、import文で明示的に利用を宣言する必要がある。"
      ]
    },
    {
      "cell_type": "code",
      "metadata": {
        "id": "4wSUrjBAGBN2",
        "colab_type": "code",
        "outputId": "6cff22d1-6693-4dea-8d81-00d467e079f0",
        "colab": {
          "base_uri": "https://localhost:8080/",
          "height": 85
        }
      },
      "source": [
        "import math\n",
        "\n",
        "print(type(math))\n",
        "print(math)\n",
        "print(math.pi)\n",
        "print(math.cos(0))"
      ],
      "execution_count": 0,
      "outputs": [
        {
          "output_type": "stream",
          "text": [
            "<class 'module'>\n",
            "<module 'math' (built-in)>\n",
            "3.141592653589793\n",
            "1.0\n"
          ],
          "name": "stdout"
        }
      ]
    },
    {
      "cell_type": "markdown",
      "metadata": {
        "id": "82se6Pq-Gcqr",
        "colab_type": "text"
      },
      "source": [
        "リスト 2.6.2\n",
        "\n",
        "numpyパッケージをnpという別名で利用する"
      ]
    },
    {
      "cell_type": "code",
      "metadata": {
        "id": "hPAt-JvLGk8b",
        "colab_type": "code",
        "outputId": "2d5ae8c6-2876-4669-b6b6-01d4450aa6e0",
        "colab": {
          "base_uri": "https://localhost:8080/",
          "height": 51
        }
      },
      "source": [
        "import numpy as np\n",
        "npa = np.array([1,2,3])\n",
        "print(npa)\n",
        "print(type(npa))"
      ],
      "execution_count": 0,
      "outputs": [
        {
          "output_type": "stream",
          "text": [
            "[1 2 3]\n",
            "<class 'numpy.ndarray'>\n"
          ],
          "name": "stdout"
        }
      ]
    },
    {
      "cell_type": "markdown",
      "metadata": {
        "id": "JCY-eHuFGtJL",
        "colab_type": "text"
      },
      "source": [
        "リスト 2.6.3\n",
        "\n",
        "必要なものだけ使えるようにする。:\n",
        "\n",
        "- from パッケージ名 import モジュール名\n",
        "- from モジュール名 import 関数名"
      ]
    },
    {
      "cell_type": "code",
      "metadata": {
        "id": "yntnQGOfHSKt",
        "colab_type": "code",
        "outputId": "e6c5207a-3625-48d5-a37c-8c52923fbc0b",
        "colab": {
          "base_uri": "https://localhost:8080/",
          "height": 51
        }
      },
      "source": [
        "from math import cos\n",
        "print(cos(100))\n",
        "print(type(cos(199)))"
      ],
      "execution_count": 0,
      "outputs": [
        {
          "output_type": "stream",
          "text": [
            "0.8623188722876839\n",
            "<class 'float'>\n"
          ],
          "name": "stdout"
        }
      ]
    },
    {
      "cell_type": "markdown",
      "metadata": {
        "id": "Ai28abflHbGF",
        "colab_type": "text"
      },
      "source": [
        "### 2.6.2 モジュールの利用"
      ]
    },
    {
      "cell_type": "markdown",
      "metadata": {
        "id": "c98baMoHHoM0",
        "colab_type": "text"
      },
      "source": [
        "リスト 2.6.4\n",
        "\n",
        "モジュールの使い方はhelp()関数を使うとよい。\n",
        "\n",
        "どんなモジュールがあるかについては、:\n",
        "\n",
        "- [Python標準ライブラリ](https://docs.python.org/ja/3/library/index.html)の説明\n",
        "- [Python Package Index](https://pypi.org/)...パイピーアイと読む。pipでインストールできるようになる。デビューしてえ。\n",
        "\n",
        "等を参考にするとよい。"
      ]
    },
    {
      "cell_type": "code",
      "metadata": {
        "id": "MCNM2JzGIVVu",
        "colab_type": "code",
        "colab": {}
      },
      "source": [
        "import math\n",
        "help(math)"
      ],
      "execution_count": 0,
      "outputs": []
    },
    {
      "cell_type": "markdown",
      "metadata": {
        "id": "i9eZrfB6IXvu",
        "colab_type": "text"
      },
      "source": [
        "#### [1] osモジュールとは\n",
        "\n",
        "- 標準モジュールの一つ\n",
        "- ファイルやディレクトリ操作ができる\n",
        "  - os.getcwd():   \n",
        "  現在の作業ディレクトリ名を返す\n",
        "  - os.listdir(path):  \n",
        "  pathのディレクトリやファイルの一覧をリストで返す  \n",
        "  引数pathがないなら、現在の作業ディレクトリについて一覧を返す\n",
        "  - os.chdir(path):  \n",
        "  pathへディレクトリを移動する\n",
        "  - os.mkdir(dir):  \n",
        "  dirディレクトリを作成する "
      ]
    },
    {
      "cell_type": "markdown",
      "metadata": {
        "id": "VkRAL1NgcOHb",
        "colab_type": "text"
      },
      "source": [
        "リスト 2.6.5"
      ]
    },
    {
      "cell_type": "code",
      "metadata": {
        "id": "sNFgEtg4aaNM",
        "colab_type": "code",
        "outputId": "f95c975d-e44f-454b-9795-caaa13fc9d5f",
        "colab": {
          "base_uri": "https://localhost:8080/",
          "height": 51
        }
      },
      "source": [
        "import os\n",
        "print(os.getcwd())\n",
        "print(os.listdir())\n",
        "os.chdir(\"sample_data\")\n",
        "os.mkdir('example')"
      ],
      "execution_count": 0,
      "outputs": [
        {
          "output_type": "stream",
          "text": [
            "/content\n",
            "['.config', 'sample_data']\n"
          ],
          "name": "stdout"
        }
      ]
    },
    {
      "cell_type": "markdown",
      "metadata": {
        "id": "9a7xjtkHalcF",
        "colab_type": "text"
      },
      "source": [
        "#### [2] datetime モジュールとは\n",
        "\n",
        "- 標準モジュール\n",
        "- 日付や時刻を扱う\n",
        "\n",
        "| プロパティ名 |   内容   |\n",
        "|     ----     |   ----   |\n",
        "|   datetime   |   日時   |\n",
        "|     date     |   日付   |\n",
        "|     time     |   時刻   |\n",
        "|  timedelta   | 時間(差) |\n",
        "\n"
      ]
    },
    {
      "cell_type": "markdown",
      "metadata": {
        "id": "wqzCt5L3cXt8",
        "colab_type": "text"
      },
      "source": [
        "リスト 2.6.6\n",
        "\n",
        "現在日時と各日時情報の取得"
      ]
    },
    {
      "cell_type": "code",
      "metadata": {
        "id": "Wv21t2ABfPcv",
        "colab_type": "code",
        "outputId": "d652221d-d607-4046-be34-2f35d16465a7",
        "colab": {
          "base_uri": "https://localhost:8080/",
          "height": 221
        }
      },
      "source": [
        "import datetime\n",
        "now = datetime.datetime.now() # 現在日時\n",
        "print(\"now\\t\\t:\",now)\n",
        "print(\"type(now)\\t:\",type(now))\n",
        "print(\"now.year\\t:\",now.year)\n",
        "print(\"now.month\\t:\",now.month)\n",
        "print(\"now.day\\t\\t:\",now.day)\n",
        "print(\"now.hour\\t:\",now.hour)\n",
        "print(\"now.minute\\t:\",now.minute)\n",
        "print(\"now.second\\t:\",now.second)\n",
        "print(\"now.date()\\t:\",now.date())\n",
        "print(\"type(now.date()):\",type(now.date()))\n",
        "print(\"now.time()\\t:\",now.time())\n",
        "print(\"type(now.time()):\",type(now.time()))"
      ],
      "execution_count": 0,
      "outputs": [
        {
          "output_type": "stream",
          "text": [
            "now\t\t: 2020-05-07 14:40:26.352945\n",
            "type(now)\t: <class 'datetime.datetime'>\n",
            "now.year\t: 2020\n",
            "now.month\t: 5\n",
            "now.day\t\t: 7\n",
            "now.hour\t: 14\n",
            "now.minute\t: 40\n",
            "now.second\t: 26\n",
            "now.date()\t: 2020-05-07\n",
            "type(now.date()): <class 'datetime.date'>\n",
            "now.time()\t: 14:40:26.352945\n",
            "type(now.time()): <class 'datetime.time'>\n"
          ],
          "name": "stdout"
        }
      ]
    },
    {
      "cell_type": "markdown",
      "metadata": {
        "id": "zpQF9d_VgD3r",
        "colab_type": "text"
      },
      "source": [
        "リスト 2.6.7\n",
        "\n",
        "本日の日付の取得  \n",
        "時刻情報がいらないなら、dateインスタンスを使えばよい。"
      ]
    },
    {
      "cell_type": "code",
      "metadata": {
        "id": "-2Hi4yjMlsnd",
        "colab_type": "code",
        "outputId": "709e9967-6542-4acc-d6f4-6df353c54e45",
        "colab": {
          "base_uri": "https://localhost:8080/",
          "height": 34
        }
      },
      "source": [
        "import datetime \n",
        "today = datetime.date.today()\n",
        "print(today)"
      ],
      "execution_count": 0,
      "outputs": [
        {
          "output_type": "stream",
          "text": [
            "2020-05-07\n"
          ],
          "name": "stdout"
        }
      ]
    },
    {
      "cell_type": "code",
      "metadata": {
        "id": "9W5xLe1Olw3A",
        "colab_type": "code",
        "outputId": "879cf993-a6ad-4f3a-c9f5-24bbb8876662",
        "colab": {
          "base_uri": "https://localhost:8080/",
          "height": 34
        }
      },
      "source": [
        "# 必要なものだけimport\n",
        "from datetime import date\n",
        "today = date.today()\n",
        "print(today)"
      ],
      "execution_count": 0,
      "outputs": [
        {
          "output_type": "stream",
          "text": [
            "2020-05-07\n"
          ],
          "name": "stdout"
        }
      ]
    },
    {
      "cell_type": "markdown",
      "metadata": {
        "id": "1JpWfeyNmDIA",
        "colab_type": "text"
      },
      "source": [
        "リスト 2.6.8\n",
        "\n",
        "時刻の取得はtimeインスタンスが使える。  \n",
        "引数を省略すると、dafault値の0が入る。"
      ]
    },
    {
      "cell_type": "code",
      "metadata": {
        "id": "NNMZ5myLnw7d",
        "colab_type": "code",
        "outputId": "05a4e339-2141-49ba-d241-9b6ef6459e1f",
        "colab": {
          "base_uri": "https://localhost:8080/",
          "height": 51
        }
      },
      "source": [
        "import datetime \n",
        "\n",
        "dtt = datetime.time(hour=16, minute=59, second=30)\n",
        "print(dtt)\n",
        "print(type(dtt))"
      ],
      "execution_count": 0,
      "outputs": [
        {
          "output_type": "stream",
          "text": [
            "16:59:30\n",
            "<class 'datetime.time'>\n"
          ],
          "name": "stdout"
        }
      ]
    },
    {
      "cell_type": "markdown",
      "metadata": {
        "id": "0npcLP9Nn5Nk",
        "colab_type": "text"
      },
      "source": [
        "リスト 2.6.9\n",
        "\n",
        "時刻の計算を行い、時間計測ができる。  \n",
        "時間計測に伴い、timedeltaというインスタンスが生成される。"
      ]
    },
    {
      "cell_type": "code",
      "metadata": {
        "id": "MRF-AXLHqKC3",
        "colab_type": "code",
        "outputId": "eee71cdb-6ae5-4980-b594-0677e32d37b4",
        "colab": {
          "base_uri": "https://localhost:8080/",
          "height": 85
        }
      },
      "source": [
        "import datetime\n",
        "now = datetime.datetime.now()\n",
        "dtdt = datetime.datetime(year=2019, month=11, day=16)\n",
        "tdelta = now - dtdt\n",
        "print(tdelta)\n",
        "print(type(tdelta))\n",
        "print(tdelta.days)\n",
        "print(tdelta.total_seconds())"
      ],
      "execution_count": 0,
      "outputs": [
        {
          "output_type": "stream",
          "text": [
            "173 days, 15:18:16.328887\n",
            "<class 'datetime.timedelta'>\n",
            "173\n",
            "15002296.328887\n"
          ],
          "name": "stdout"
        }
      ]
    },
    {
      "cell_type": "code",
      "metadata": {
        "id": "lJT1B1r_sU_B",
        "colab_type": "code",
        "colab": {}
      },
      "source": [
        "help(tdelta)"
      ],
      "execution_count": 0,
      "outputs": []
    },
    {
      "cell_type": "markdown",
      "metadata": {
        "id": "uhaJ78p6uBWB",
        "colab_type": "text"
      },
      "source": [
        "リスト 2.6.10\n",
        "\n",
        "datetimeインスタンスは、strftime()メソッドを使うことで様々なフォーマットの文字列に変換できる。  \n",
        "%Y, %m 等は書式コードという。[(参考: Python 公式ドキュメント)](https://docs.python.org/ja/3/library/datetime.html)"
      ]
    },
    {
      "cell_type": "code",
      "metadata": {
        "id": "zEQJKrlsuR89",
        "colab_type": "code",
        "outputId": "db331274-f7f1-4827-a702-e25a7f9506da",
        "colab": {
          "base_uri": "https://localhost:8080/",
          "height": 34
        }
      },
      "source": [
        "import datetime\n",
        "now = datetime.datetime.now()\n",
        "fmt = now.strftime('%Y-%m-%d (%a) %H:%M:%S')\n",
        "print(fmt)"
      ],
      "execution_count": 0,
      "outputs": [
        {
          "output_type": "stream",
          "text": [
            "2020-05-07 (Thu) 15:22:39\n"
          ],
          "name": "stdout"
        }
      ]
    },
    {
      "cell_type": "markdown",
      "metadata": {
        "id": "PHwp4WAmudHr",
        "colab_type": "text"
      },
      "source": [
        "リスト 2.6.11\n",
        "\n",
        "文字列からdatetimeインスタンスへの変換"
      ]
    },
    {
      "cell_type": "code",
      "metadata": {
        "id": "AJ6aL8q-yfxH",
        "colab_type": "code",
        "outputId": "1ae2473f-fd26-4c4a-eca0-aed7876b1fda",
        "colab": {
          "base_uri": "https://localhost:8080/",
          "height": 51
        }
      },
      "source": [
        "import datetime\n",
        "s = '2020-1-14 17:40'\n",
        "dtst = datetime.datetime.strptime(s, '%Y-%m-%d %H:%M')\n",
        "print(dtst)\n",
        "print(type(dtst))"
      ],
      "execution_count": 0,
      "outputs": [
        {
          "output_type": "stream",
          "text": [
            "2020-01-14 17:40:00\n",
            "<class 'datetime.datetime'>\n"
          ],
          "name": "stdout"
        }
      ]
    },
    {
      "cell_type": "markdown",
      "metadata": {
        "id": "mWZUIMclyspO",
        "colab_type": "text"
      },
      "source": [
        "### 2.6.3 NumPy"
      ]
    },
    {
      "cell_type": "markdown",
      "metadata": {
        "id": "DJtZN7zjZMwO",
        "colab_type": "text"
      },
      "source": [
        "NumPy(Numerical Python)は、数値計算、科学技術系っさんを行う際に夫もよくつかわれるパッケージであり、様々なほかのパッケージがNumPyを基礎として作られている。  \n",
        "これを使うことで、ディープラーニングで用いられる線形代数などの数値計算を効率よく高速に行うことができる。"
      ]
    },
    {
      "cell_type": "markdown",
      "metadata": {
        "id": "4t424AynNGNu",
        "colab_type": "text"
      },
      "source": [
        "NumPyで使える変数やメソッドのリストや詳細についてはhelp(np)等で参照できる。また、colab上では?npで参照できる。"
      ]
    },
    {
      "cell_type": "markdown",
      "metadata": {
        "id": "yWkOMP9xaX3h",
        "colab_type": "text"
      },
      "source": [
        "#### [1] NumPy配列\n",
        "\n",
        "listと似ており、相互に変換も可能だが、別物である。\n",
        "NumPy配列はnp.array()を用いてリストから作成できる。"
      ]
    },
    {
      "cell_type": "markdown",
      "metadata": {
        "id": "5KP-5c2da0Ja",
        "colab_type": "text"
      },
      "source": [
        "リスト 2.6.12\n",
        "\n",
        "リストとNumPy配列の型を比較する。また、np.tolist()を使うと、listに変換できる。"
      ]
    },
    {
      "cell_type": "code",
      "metadata": {
        "id": "nfSyjpunaLwL",
        "colab_type": "code",
        "outputId": "59e270a4-a897-449e-b474-5873343ef550",
        "colab": {
          "base_uri": "https://localhost:8080/",
          "height": 153
        }
      },
      "source": [
        "import numpy as np # as hoge の形で、別名でパッケージにアクセスできる。\n",
        "\n",
        "lst = [1,3,5,9]\n",
        "nlist = np.array(lst)\n",
        "\n",
        "print(\"lst\\t\\t:\",lst)\n",
        "print(\"type(lst)\\t:\",type(lst))\n",
        "print()\n",
        "print(\"nlist\\t\\t:\",nlist)\n",
        "print(\"type(nlist)\\t:\",type(nlist)) # ndarray型であることがわかる。\n",
        "print()\n",
        "\n",
        "lst0 = nlist.tolist()\n",
        "print(\"lst0\\t\\t:\",lst0)\n",
        "print(\"type(lst0)\\t:\",type(lst0))"
      ],
      "execution_count": 0,
      "outputs": [
        {
          "output_type": "stream",
          "text": [
            "lst\t\t: [1, 3, 5, 9]\n",
            "type(lst)\t: <class 'list'>\n",
            "\n",
            "nlist\t\t: [1 3 5 9]\n",
            "type(nlist)\t: <class 'numpy.ndarray'>\n",
            "\n",
            "lst0\t\t: [1, 3, 5, 9]\n",
            "type(lst0)\t: <class 'list'>\n"
          ],
          "name": "stdout"
        }
      ]
    },
    {
      "cell_type": "markdown",
      "metadata": {
        "id": "S7gGlepMu8ia",
        "colab_type": "text"
      },
      "source": [
        "リスト 2.6.13\n",
        "\n",
        "ndarrayには、dtype, shape, ndim, sizeというプロパティが設定されている。"
      ]
    },
    {
      "cell_type": "code",
      "metadata": {
        "id": "Q3z1JTNQvQzZ",
        "colab_type": "code",
        "outputId": "d5eef5f2-2a95-4fb8-d1f6-a14a3e95b2dd",
        "colab": {
          "base_uri": "https://localhost:8080/",
          "height": 255
        }
      },
      "source": [
        "import numpy as np\n",
        "\n",
        "a = np.array([[1,2], [3,4], [5,6], [7,8]])\n",
        "print(a)\n",
        "print(a.dtype)\n",
        "\n",
        "print(\"a\\t:\")\n",
        "print(a)\n",
        "print(\"a.dtype\\t:\",a.dtype) # 行列要素の型を返す\n",
        "print(\"a.shape\\t:\",a.shape) # (行数, 列数)のタプルを返す\n",
        "print(\"a.ndim\\t:\",a.ndim)   # 階数(次元数)を返す\n",
        "print(\"a.size\\t:\",a.size)   # 要素数を返す"
      ],
      "execution_count": 0,
      "outputs": [
        {
          "output_type": "stream",
          "text": [
            "[[1 2]\n",
            " [3 4]\n",
            " [5 6]\n",
            " [7 8]]\n",
            "int64\n",
            "a\t:\n",
            "[[1 2]\n",
            " [3 4]\n",
            " [5 6]\n",
            " [7 8]]\n",
            "a.dtype\t: int64\n",
            "a.shape\t: (4, 2)\n",
            "a.ndim\t: 2\n",
            "a.size\t: 8\n"
          ],
          "name": "stdout"
        }
      ]
    },
    {
      "cell_type": "markdown",
      "metadata": {
        "id": "Ynh1uhku3WOA",
        "colab_type": "text"
      },
      "source": [
        "#### [2] NumPy配列の初期化と配列要素へのアクセス"
      ]
    },
    {
      "cell_type": "markdown",
      "metadata": {
        "id": "Bf7gyY1a4Q_u",
        "colab_type": "text"
      },
      "source": [
        "リスト 2.6.14\n",
        "\n",
        "\n",
        "- np.zeros(): 要素を0ですべて初期化.\n",
        "- np.ones(): 要素を1ですべて初期化.\n",
        "- nu.full(): 任意の値ですべて初期化.\n"
      ]
    },
    {
      "cell_type": "code",
      "metadata": {
        "id": "PTzKKhgP4VEb",
        "colab_type": "code",
        "outputId": "a8b39b5b-c238-493d-91dc-13bb8fb4b5ca",
        "colab": {
          "base_uri": "https://localhost:8080/",
          "height": 85
        }
      },
      "source": [
        "import numpy as np\n",
        "\n",
        "list0 = np.zeros(4)\n",
        "print(\"np.zeros(4)\\t:\",list0)\n",
        "\n",
        "list1 = np.ones(5)\n",
        "print(\"np.ones(5)\\t:\",list1)\n",
        "\n",
        "list2 = np.arange(4) # rangeと似てる。 0,1,2,3\n",
        "print(\"np.arange(4)\\t:\",list2)\n",
        "\n",
        "list3 = np.full(shape=4, fill_value = 100)\n",
        "print(\"np.full(4,100)\\t:\",list3)"
      ],
      "execution_count": 0,
      "outputs": [
        {
          "output_type": "stream",
          "text": [
            "np.zeros(4)\t: [0. 0. 0. 0.]\n",
            "np.ones(5)\t: [1. 1. 1. 1. 1.]\n",
            "np.arange(4)\t: [0 1 2 3]\n",
            "np.full(4,100)\t: [100 100 100 100]\n"
          ],
          "name": "stdout"
        }
      ]
    },
    {
      "cell_type": "markdown",
      "metadata": {
        "id": "swPmcRikAPgH",
        "colab_type": "text"
      },
      "source": [
        "リスト 2.6.15\n",
        "\n",
        "np.reshape()を用いると、行列の初期化が行える。"
      ]
    },
    {
      "cell_type": "code",
      "metadata": {
        "id": "86RqBJcTAaGv",
        "colab_type": "code",
        "outputId": "1d2260c8-7ee0-479d-d444-c94eba585383",
        "colab": {
          "base_uri": "https://localhost:8080/",
          "height": 51
        }
      },
      "source": [
        "import numpy as np\n",
        "list0 = np.zeros(8)\n",
        "matrix0 = list0.reshape(2,4)\n",
        "print(matrix0)"
      ],
      "execution_count": 0,
      "outputs": [
        {
          "output_type": "stream",
          "text": [
            "[[0. 0. 0. 0.]\n",
            " [0. 0. 0. 0.]]\n"
          ],
          "name": "stdout"
        }
      ]
    },
    {
      "cell_type": "markdown",
      "metadata": {
        "id": "14xmrgQMAmiY",
        "colab_type": "text"
      },
      "source": [
        "リスト .2.6.16\n",
        "\n",
        "要素へのアクセスは、リストと似ている。"
      ]
    },
    {
      "cell_type": "code",
      "metadata": {
        "id": "GQVuGJn-AxCl",
        "colab_type": "code",
        "outputId": "f98402c9-3097-4467-fce5-43b9eaf51da6",
        "colab": {
          "base_uri": "https://localhost:8080/",
          "height": 51
        }
      },
      "source": [
        "a = np.array([[1,2,3], [4,5,6]])\n",
        "print(a[1][0])\n",
        "\n",
        "print(a[1,0]) # a[1][0]はこのようにアクセス可能。"
      ],
      "execution_count": 0,
      "outputs": [
        {
          "output_type": "stream",
          "text": [
            "4\n",
            "4\n"
          ],
          "name": "stdout"
        }
      ]
    },
    {
      "cell_type": "markdown",
      "metadata": {
        "id": "9THjV-J-BhUu",
        "colab_type": "text"
      },
      "source": [
        "リスト 2.6.17\n",
        "\n",
        "ベクトル・行列の要素や部分配列へのアクセスはリストと同様である。  スライスも使える。"
      ]
    },
    {
      "cell_type": "code",
      "metadata": {
        "id": "P9sgnXb-BrvT",
        "colab_type": "code",
        "outputId": "06d97490-4e36-4409-8f8d-63f4b8f00bed",
        "colab": {
          "base_uri": "https://localhost:8080/",
          "height": 119
        }
      },
      "source": [
        "lst = np.arange(51)\n",
        "\n",
        "print(lst)\n",
        "print(lst[-1])\n",
        "print(lst[2:6])\n",
        "print(lst[40:])"
      ],
      "execution_count": 0,
      "outputs": [
        {
          "output_type": "stream",
          "text": [
            "[ 0  1  2  3  4  5  6  7  8  9 10 11 12 13 14 15 16 17 18 19 20 21 22 23\n",
            " 24 25 26 27 28 29 30 31 32 33 34 35 36 37 38 39 40 41 42 43 44 45 46 47\n",
            " 48 49 50]\n",
            "50\n",
            "[2 3 4 5]\n",
            "[40 41 42 43 44 45 46 47 48 49 50]\n"
          ],
          "name": "stdout"
        }
      ]
    },
    {
      "cell_type": "markdown",
      "metadata": {
        "id": "aZn1FTSYGPvV",
        "colab_type": "text"
      },
      "source": [
        "リスト 2.6.18\n",
        "\n",
        "NumPy配列では、 __スライスによって配列はコピーされない。__\n",
        "したがって、スライス上での値変更は元のNumPy配列にも反映される。"
      ]
    },
    {
      "cell_type": "code",
      "metadata": {
        "id": "wstuTD_bGmSE",
        "colab_type": "code",
        "outputId": "dd738ed4-df12-4a9f-fc17-245cc1a581cd",
        "colab": {
          "base_uri": "https://localhost:8080/",
          "height": 102
        }
      },
      "source": [
        "lst = np.arange(15)\n",
        "print(lst)\n",
        "dv = lst[2:6]\n",
        "print(dv)\n",
        "print(lst)\n",
        "dv[1] = 100\n",
        "print(dv)\n",
        "print(lst)"
      ],
      "execution_count": 0,
      "outputs": [
        {
          "output_type": "stream",
          "text": [
            "[ 0  1  2  3  4  5  6  7  8  9 10 11 12 13 14]\n",
            "[2 3 4 5]\n",
            "[ 0  1  2  3  4  5  6  7  8  9 10 11 12 13 14]\n",
            "[  2 100   4   5]\n",
            "[  0   1   2 100   4   5   6   7   8   9  10  11  12  13  14]\n"
          ],
          "name": "stdout"
        }
      ]
    },
    {
      "cell_type": "markdown",
      "metadata": {
        "id": "PT0R2h2iHXah",
        "colab_type": "text"
      },
      "source": [
        "リスト 2.6.19\n",
        "\n",
        "コピーの時はnp.copy()を使う."
      ]
    },
    {
      "cell_type": "code",
      "metadata": {
        "id": "jpIeK6I_Hf91",
        "colab_type": "code",
        "outputId": "f19e77cd-e855-49dd-8161-644acd790f9d",
        "colab": {
          "base_uri": "https://localhost:8080/",
          "height": 102
        }
      },
      "source": [
        "lst = np.arange(15)\n",
        "print(lst)\n",
        "dv = lst[2:6].copy() # ここだけ変更\n",
        "print(dv)\n",
        "print(lst)\n",
        "dv[1] = 100\n",
        "print(dv)\n",
        "print(lst)"
      ],
      "execution_count": 0,
      "outputs": [
        {
          "output_type": "stream",
          "text": [
            "[ 0  1  2  3  4  5  6  7  8  9 10 11 12 13 14]\n",
            "[2 3 4 5]\n",
            "[ 0  1  2  3  4  5  6  7  8  9 10 11 12 13 14]\n",
            "[  2 100   4   5]\n",
            "[ 0  1  2  3  4  5  6  7  8  9 10 11 12 13 14]\n"
          ],
          "name": "stdout"
        }
      ]
    },
    {
      "cell_type": "markdown",
      "metadata": {
        "id": "vjUtAtq1IY5E",
        "colab_type": "text"
      },
      "source": [
        "リスト 2.6.20\n",
        "\n",
        "[]の中に条件(bool値)を入れて配列を作成することも可能！\n",
        "この場合、NumPy配列は新しく作られている。"
      ]
    },
    {
      "cell_type": "code",
      "metadata": {
        "id": "BptbUHVWIoqu",
        "colab_type": "code",
        "outputId": "796b22b4-5f32-42d9-c03c-2b547c54e721",
        "colab": {
          "base_uri": "https://localhost:8080/",
          "height": 306
        }
      },
      "source": [
        "lst = [i for i in range(10)]\n",
        "# print(lst[lst>5]) # listだとエラー\n",
        "\n",
        "a = np.array([[[1,2,3,4],[4,5,6,7],[3,4,5,6]], \\\n",
        "              [[7,8,9,10],[10,11,12,13],[4,5,6,7]]])\n",
        "print(a>6)\n",
        "print()\n",
        "b = a[a>6]\n",
        "\n",
        "b[0] = 1000\n",
        "print(b)\n",
        "\n",
        "\n",
        "print(b.shape)\n",
        "print(a)"
      ],
      "execution_count": 0,
      "outputs": [
        {
          "output_type": "stream",
          "text": [
            "[[[False False False False]\n",
            "  [False False False  True]\n",
            "  [False False False False]]\n",
            "\n",
            " [[ True  True  True  True]\n",
            "  [ True  True  True  True]\n",
            "  [False False False  True]]]\n",
            "\n",
            "[1000    7    8    9   10   10   11   12   13    7]\n",
            "(10,)\n",
            "[[[ 1  2  3  4]\n",
            "  [ 4  5  6  7]\n",
            "  [ 3  4  5  6]]\n",
            "\n",
            " [[ 7  8  9 10]\n",
            "  [10 11 12 13]\n",
            "  [ 4  5  6  7]]]\n"
          ],
          "name": "stdout"
        }
      ]
    },
    {
      "cell_type": "code",
      "metadata": {
        "id": "flxumSK2Nljr",
        "colab_type": "code",
        "outputId": "0c7b4b16-7eb5-41ff-9751-16ddaba2fb78",
        "colab": {
          "base_uri": "https://localhost:8080/",
          "height": 199
        }
      },
      "source": [
        "import numpy as np\n",
        "help(np)"
      ],
      "execution_count": 2,
      "outputs": [
        {
          "output_type": "stream",
          "text": [
            "IOPub data rate exceeded.\n",
            "The notebook server will temporarily stop sending output\n",
            "to the client in order to avoid crashing it.\n",
            "To change this limit, set the config variable\n",
            "`--NotebookApp.iopub_data_rate_limit`.\n",
            "\n",
            "Current values:\n",
            "NotebookApp.iopub_data_rate_limit=1000000.0 (bytes/sec)\n",
            "NotebookApp.rate_limit_window=3.0 (secs)\n",
            "\n"
          ],
          "name": "stderr"
        }
      ]
    },
    {
      "cell_type": "code",
      "metadata": {
        "id": "GzVrlJhTOfXj",
        "colab_type": "code",
        "colab": {}
      },
      "source": [
        "?np"
      ],
      "execution_count": 0,
      "outputs": []
    },
    {
      "cell_type": "markdown",
      "metadata": {
        "id": "7kePNoIUOvFb",
        "colab_type": "text"
      },
      "source": [
        "#### [3] NumPy配列の計算"
      ]
    },
    {
      "cell_type": "markdown",
      "metadata": {
        "id": "glW_EZ1fqt0U",
        "colab_type": "text"
      },
      "source": [
        "NumPy配列を使うことで、ベクトルや行列の演算が簡単かつ高速に演算でkる。"
      ]
    },
    {
      "cell_type": "markdown",
      "metadata": {
        "id": "3JjhwNTXEqge",
        "colab_type": "text"
      },
      "source": [
        "リスト 2.6.21\n",
        "\n",
        "ベクトルの演算例"
      ]
    },
    {
      "cell_type": "code",
      "metadata": {
        "id": "Xqia-RxdEwEE",
        "colab_type": "code",
        "colab": {
          "base_uri": "https://localhost:8080/",
          "height": 90
        },
        "outputId": "afc404a6-e182-4c8d-c965-90c8a8b86658"
      },
      "source": [
        "import numpy as np\n",
        "\n",
        "av = np.array([1,2,3])\n",
        "bv = np.array([5,-6,-7])\n",
        "\n",
        "# 足し引き\n",
        "cp = av + bv\n",
        "cm = av - bv\n",
        "print(cp)\n",
        "print(cm)\n",
        "\n",
        "# スカラー積(ブロードキャスト演算)\n",
        "sv = 2 * av\n",
        "print(sv)\n",
        "\n",
        "# 掛け算は要素積となる\n",
        "vx = av * bv\n",
        "print(vx)"
      ],
      "execution_count": 5,
      "outputs": [
        {
          "output_type": "stream",
          "text": [
            "[ 6 -4 -4]\n",
            "[-4  8 10]\n",
            "[2 4 6]\n",
            "[  5 -12 -21]\n"
          ],
          "name": "stdout"
        }
      ]
    },
    {
      "cell_type": "markdown",
      "metadata": {
        "id": "XYeV6W93FjlH",
        "colab_type": "text"
      },
      "source": [
        "リスト 2.6.22\n",
        "\n",
        "内積計算には、np.dot()を用いる"
      ]
    },
    {
      "cell_type": "code",
      "metadata": {
        "id": "Ok_8A-fGFxpZ",
        "colab_type": "code",
        "colab": {
          "base_uri": "https://localhost:8080/",
          "height": 35
        },
        "outputId": "be6935a9-0b97-4b29-d74b-66b424702850"
      },
      "source": [
        "import numpy as np\n",
        "\n",
        "av = np.array([1 ,2 ,3])\n",
        "bv = np.array([ 5 ,-6 ,-7])\n",
        "\n",
        "ip = np.dot(av, bv)\n",
        "print(ip)"
      ],
      "execution_count": 8,
      "outputs": [
        {
          "output_type": "stream",
          "text": [
            "-28\n"
          ],
          "name": "stdout"
        }
      ]
    },
    {
      "cell_type": "markdown",
      "metadata": {
        "id": "BfHS3xYXGIR3",
        "colab_type": "text"
      },
      "source": [
        "リスト 2.6.23\n",
        "\n",
        "行列の積にも、np.dot()を用いる"
      ]
    },
    {
      "cell_type": "code",
      "metadata": {
        "id": "G2G0Lf0WGN4H",
        "colab_type": "code",
        "colab": {
          "base_uri": "https://localhost:8080/",
          "height": 145
        },
        "outputId": "22b701e9-2f8d-4bc2-c2ea-e5b412207b0a"
      },
      "source": [
        "a = np.array([[1,2,3], [4,5,6], [6,7,8], [9,10,11]]) # 4行3列\n",
        "b = np.array([[2,3,4,5], [5,6,7,8], [0,1,2,3]]) # 3行4列\n",
        "\n",
        "c = np.dot(a, b) # 4×4\n",
        "d = np.dot(b, a) # 3×3\n",
        "print(c)\n",
        "print(d)"
      ],
      "execution_count": 14,
      "outputs": [
        {
          "output_type": "stream",
          "text": [
            "[[ 12  18  24  30]\n",
            " [ 33  48  63  78]\n",
            " [ 47  68  89 110]\n",
            " [ 68  98 128 158]]\n",
            "[[ 83  97 111]\n",
            " [143 169 195]\n",
            " [ 43  49  55]]\n"
          ],
          "name": "stdout"
        }
      ]
    },
    {
      "cell_type": "markdown",
      "metadata": {
        "id": "mVnBonLMG2S1",
        "colab_type": "text"
      },
      "source": [
        "リスト 2.6.24\n",
        "\n",
        "行列の転置にはnp.Tを用いる"
      ]
    },
    {
      "cell_type": "code",
      "metadata": {
        "id": "2X-RBsnzHMif",
        "colab_type": "code",
        "colab": {
          "base_uri": "https://localhost:8080/",
          "height": 145
        },
        "outputId": "e6565e44-655d-4872-dadf-39811d2e05f3"
      },
      "source": [
        "a = np.array([[1,2,3], [4,5,6], [6,7,8], [9,10,11]]) # 4行3列\n",
        "print(a)\n",
        "\n",
        "at = a.T\n",
        "print(at)"
      ],
      "execution_count": 16,
      "outputs": [
        {
          "output_type": "stream",
          "text": [
            "[[ 1  2  3]\n",
            " [ 4  5  6]\n",
            " [ 6  7  8]\n",
            " [ 9 10 11]]\n",
            "[[ 1  4  6  9]\n",
            " [ 2  5  7 10]\n",
            " [ 3  6  8 11]]\n"
          ],
          "name": "stdout"
        }
      ]
    },
    {
      "cell_type": "markdown",
      "metadata": {
        "id": "W0zU4YNQHfm7",
        "colab_type": "text"
      },
      "source": [
        "リスト 2.6.25\n",
        "\n",
        "ベクトルと行列の積  \n",
        "ベクトルは、縦横ベクトルを都合のよい方で計算される"
      ]
    },
    {
      "cell_type": "code",
      "metadata": {
        "id": "MJ49umoEHj3k",
        "colab_type": "code",
        "colab": {
          "base_uri": "https://localhost:8080/",
          "height": 54
        },
        "outputId": "caca53de-ffd9-4145-df0f-69461419c940"
      },
      "source": [
        "a = np.array([[1,2], [3,4]])\n",
        "b = np.array([-1, -2])\n",
        "\n",
        "c = np.dot(a, b)\n",
        "print(c)\n",
        "\n",
        "d = np.dot(b, a)\n",
        "print(d)"
      ],
      "execution_count": 18,
      "outputs": [
        {
          "output_type": "stream",
          "text": [
            "[ -5 -11]\n",
            "[ -7 -10]\n"
          ],
          "name": "stdout"
        }
      ]
    },
    {
      "cell_type": "markdown",
      "metadata": {
        "id": "7NRSM4fd02wm",
        "colab_type": "text"
      },
      "source": [
        "### 2.6.4 Matplotlib"
      ]
    },
    {
      "cell_type": "markdown",
      "metadata": {
        "id": "-0i0e1-CG0UT",
        "colab_type": "text"
      },
      "source": [
        " データの可視化に用いられるのがMatplotlibである。グラフの描画ができる。"
      ]
    },
    {
      "cell_type": "markdown",
      "metadata": {
        "id": "L5j6Y3gMhOz0",
        "colab_type": "text"
      },
      "source": [
        "リスト 2.6.26\n",
        "\n",
        "IPyhton/Jupyter上で実行する場合、以下を書くとグラフをブラウザ上でインタラクティブに見ることができる。"
      ]
    },
    {
      "cell_type": "code",
      "metadata": {
        "id": "epfCr1xgm4_S",
        "colab_type": "code",
        "colab": {}
      },
      "source": [
        "%matplotlib inline\n",
        "import matplotlib.pyplot as plt"
      ],
      "execution_count": 0,
      "outputs": []
    },
    {
      "cell_type": "markdown",
      "metadata": {
        "id": "o3ewgSiVm8fY",
        "colab_type": "text"
      },
      "source": [
        "#### [1] figure\n",
        "\n",
        "matplotlibでは、まずfigureオブジェクトを作成する。figureオブジェクトが生成されると、何も書かれていないウインドウが作成される。"
      ]
    },
    {
      "cell_type": "code",
      "metadata": {
        "id": "04m2ec_1nNch",
        "colab_type": "code",
        "colab": {
          "base_uri": "https://localhost:8080/",
          "height": 35
        },
        "outputId": "f6a6a349-1897-42b0-aba4-6c0ec0ef8231"
      },
      "source": [
        "fig = plt.figure()"
      ],
      "execution_count": 2,
      "outputs": [
        {
          "output_type": "display_data",
          "data": {
            "text/plain": [
              "<Figure size 432x288 with 0 Axes>"
            ]
          },
          "metadata": {
            "tags": []
          }
        }
      ]
    },
    {
      "cell_type": "markdown",
      "metadata": {
        "id": "9K6C08LVnPLo",
        "colab_type": "text"
      },
      "source": [
        "#### [2] plot\n",
        "\n",
        "figureオブジェクトの上にグラフを作っていく。add_subplot()を用いて各領域を確保する。\n",
        "1,2行目どちらのようにもかける。  \n",
        "figure(nrows, ncols, index)では、figureをnrows行, ncols列に分割してindex番目のところにグラフを作る。"
      ]
    },
    {
      "cell_type": "code",
      "metadata": {
        "id": "uVtCQ3aMndKc",
        "colab_type": "code",
        "colab": {
          "base_uri": "https://localhost:8080/",
          "height": 74
        },
        "outputId": "21e464ae-6c84-4828-dc7b-2e0073192db2"
      },
      "source": [
        "ax1 = fig.add_subplot(1,1,1)\n",
        "# ax1 = fig.add_subplot(111) "
      ],
      "execution_count": 4,
      "outputs": [
        {
          "output_type": "stream",
          "text": [
            "/usr/local/lib/python3.6/dist-packages/ipykernel_launcher.py:1: MatplotlibDeprecationWarning: Adding an axes using the same arguments as a previous axes currently reuses the earlier instance.  In a future version, a new instance will always be created and returned.  Meanwhile, this warning can be suppressed, and the future behavior ensured, by passing a unique label to each axes instance.\n",
            "  \"\"\"Entry point for launching an IPython kernel.\n"
          ],
          "name": "stderr"
        }
      ]
    },
    {
      "cell_type": "markdown",
      "metadata": {
        "id": "XZ8kZPFDnlFS",
        "colab_type": "text"
      },
      "source": [
        "リスト 2.6.29\n",
        "\n",
        "適当なデータでグラフを描画する。\n",
        "描画にはplot()を用いる。"
      ]
    },
    {
      "cell_type": "code",
      "metadata": {
        "id": "6xiENo_rwnfC",
        "colab_type": "code",
        "colab": {
          "base_uri": "https://localhost:8080/",
          "height": 295
        },
        "outputId": "9db2a3c5-ab1f-4bc2-fdfb-409232a0265d"
      },
      "source": [
        "%matplotlib inline\n",
        "import numpy as np\n",
        "import matplotlib.pyplot as plt\n",
        "# 数値データの作成\n",
        "x = np.arange(0, 8, 0.1)\n",
        "y1 = np.cos(x)\n",
        "y2 = np.sin(x)\n",
        "# グラフの描画\n",
        "fig = plt.figure()\n",
        "ax1 = fig.add_subplot(1,1,1)\n",
        "ax1.plot(x, y1, label='cos')\n",
        "ax1.plot(x, y2, linestyle='dashed', label='sin', marker = '>')\n",
        "ax1.set_xlabel(\"X\")\n",
        "ax1.set_ylabel(\"Y\")\n",
        "ax1.set_xlim(0, 10)\n",
        "ax1.set_ylim(-1, 1)\n",
        "ax1.set_title(\"test figure\")\n",
        "ax1.legend()\n",
        "fig.show()"
      ],
      "execution_count": 20,
      "outputs": [
        {
          "output_type": "display_data",
          "data": {
            "image/png": "[encoded data removed]",
            "text/plain": [
              "<Figure size 432x288 with 1 Axes>"
            ]
          },
          "metadata": {
            "tags": [],
            "needs_background": "light"
          }
        }
      ]
    },
    {
      "cell_type": "markdown",
      "metadata": {
        "id": "7HBHNWMFjfKa",
        "colab_type": "text"
      },
      "source": [
        "リスト 2.6.29_2\n",
        "\n",
        "plt.plot()について"
      ]
    },
    {
      "cell_type": "code",
      "metadata": {
        "id": "rLdLn4o0jrPO",
        "colab_type": "code",
        "colab": {
          "base_uri": "https://localhost:8080/",
          "height": 246
        },
        "outputId": "5230363b-b705-48c4-9797-c543795542ac"
      },
      "source": [
        "import matplotlib.pyplot as plt\n",
        "import pandas as pd\n",
        "print(\"表. plot()の引数\")\n",
        "plt_data = [\n",
        "            ['x, y', 'x軸, y軸の値を指定'],\n",
        "            ['linewidth', '線の太さ(pt)'],\n",
        "            ['linestyle', \"'solid', 'dashed', 'dashdot', 'dotted', 'None'を指定できる\"],\n",
        "            ['color', '色指定'],\n",
        "            ['label', 'ラベル用テキストの指定'],\n",
        "            ['marker', \"マーカーの形を指定. '.', 'o', 'v'. '^', '<', '>', '*', 'x' 等が指定できる\"]\n",
        "            ]\n",
        "df = pd.DataFrame(plt_data, columns=['引数', '説明'])\n",
        "df"
      ],
      "execution_count": 15,
      "outputs": [
        {
          "output_type": "stream",
          "text": [
            "表. plot()の引数\n"
          ],
          "name": "stdout"
        },
        {
          "output_type": "execute_result",
          "data": {
            "text/html": [
              "<div>\n",
              "<style scoped>\n",
              "    .dataframe tbody tr th:only-of-type {\n",
              "        vertical-align: middle;\n",
              "    }\n",
              "\n",
              "    .dataframe tbody tr th {\n",
              "        vertical-align: top;\n",
              "    }\n",
              "\n",
              "    .dataframe thead th {\n",
              "        text-align: right;\n",
              "    }\n",
              "</style>\n",
              "<table border=\"1\" class=\"dataframe\">\n",
              "  <thead>\n",
              "    <tr style=\"text-align: right;\">\n",
              "      <th></th>\n",
              "      <th>引数</th>\n",
              "      <th>説明</th>\n",
              "    </tr>\n",
              "  </thead>\n",
              "  <tbody>\n",
              "    <tr>\n",
              "      <th>0</th>\n",
              "      <td>x, y</td>\n",
              "      <td>x軸, y軸の値を指定</td>\n",
              "    </tr>\n",
              "    <tr>\n",
              "      <th>1</th>\n",
              "      <td>linewidth</td>\n",
              "      <td>線の太さ(pt)</td>\n",
              "    </tr>\n",
              "    <tr>\n",
              "      <th>2</th>\n",
              "      <td>linestyle</td>\n",
              "      <td>'solid', 'dashed', 'dashdot', 'dotted', 'None'...</td>\n",
              "    </tr>\n",
              "    <tr>\n",
              "      <th>3</th>\n",
              "      <td>color</td>\n",
              "      <td>色指定</td>\n",
              "    </tr>\n",
              "    <tr>\n",
              "      <th>4</th>\n",
              "      <td>label</td>\n",
              "      <td>ラベル用テキストの指定</td>\n",
              "    </tr>\n",
              "    <tr>\n",
              "      <th>5</th>\n",
              "      <td>marker</td>\n",
              "      <td>マーカーの形を指定. '.', 'o', 'v'. '^', '&lt;', '&gt;', '*', ...</td>\n",
              "    </tr>\n",
              "  </tbody>\n",
              "</table>\n",
              "</div>"
            ],
            "text/plain": [
              "          引数                                                 説明\n",
              "0       x, y                                        x軸, y軸の値を指定\n",
              "1  linewidth                                           線の太さ(pt)\n",
              "2  linestyle  'solid', 'dashed', 'dashdot', 'dotted', 'None'...\n",
              "3      color                                                色指定\n",
              "4      label                                        ラベル用テキストの指定\n",
              "5     marker  マーカーの形を指定. '.', 'o', 'v'. '^', '<', '>', '*', ..."
            ]
          },
          "metadata": {
            "tags": []
          },
          "execution_count": 15
        }
      ]
    },
    {
      "cell_type": "markdown",
      "metadata": {
        "id": "RODB9J4uw6GQ",
        "colab_type": "text"
      },
      "source": [
        "#### [3] scatter\n",
        "\n",
        "散布図はscatter()を用いる"
      ]
    },
    {
      "cell_type": "code",
      "metadata": {
        "id": "Xzbd2Z5CqXyM",
        "colab_type": "code",
        "colab": {
          "base_uri": "https://localhost:8080/",
          "height": 265
        },
        "outputId": "2a0ccce0-6688-4f25-e8b9-dd68332a9959"
      },
      "source": [
        "import numpy as np\n",
        "import matplotlib.pyplot as plt\n",
        "%matplotlib inline\n",
        "\n",
        "x = np.arange(0, 5, 0.1)\n",
        "y = np.arange(0, 5, 0.1) + np.random.randn(50)\n",
        "fig = plt.figure()\n",
        "ax1 = fig.add_subplot(1,1,1)\n",
        "ax1.scatter(x, y, color='red')\n",
        "fig.show()"
      ],
      "execution_count": 3,
      "outputs": [
        {
          "output_type": "display_data",
          "data": {
            "image/png": "[encoded data removed]",
            "text/plain": [
              "<Figure size 432x288 with 1 Axes>"
            ]
          },
          "metadata": {
            "tags": [],
            "needs_background": "light"
          }
        }
      ]
    },
    {
      "cell_type": "markdown",
      "metadata": {
        "id": "OrTFoUqdqmcy",
        "colab_type": "text"
      },
      "source": [
        "#### [4] subplot\n"
      ]
    },
    {
      "cell_type": "markdown",
      "metadata": {
        "id": "PQdninoGrKSO",
        "colab_type": "text"
      },
      "source": [
        "リスト 2.6.31\n",
        "\n",
        "一つの図の中に複数のグラフを載せたいときには、add_subplot(1,1,1)を修正する。\n",
        "\n"
      ]
    },
    {
      "cell_type": "code",
      "metadata": {
        "id": "Vm6Ox8e3rPs3",
        "colab_type": "code",
        "colab": {
          "base_uri": "https://localhost:8080/",
          "height": 265
        },
        "outputId": "c72c5373-2b13-47d5-f6b0-673f237c5287"
      },
      "source": [
        "import numpy as np\n",
        "import matplotlib.pyplot as plt\n",
        "# 数値データの作成\n",
        "x = np.arange(0, 8, 0.1)\n",
        "y1 = 3*np.cos(x) - 5\n",
        "y2 = 2*np.sin(x)\n",
        "# Figureの作成\n",
        "fig = plt.figure()\n",
        "# グラフの描画(1)\n",
        "ax1 = fig.add_subplot(1,2,1)\n",
        "ax1.plot(x, y1, color='green')\n",
        "# グラフの描画(2)\n",
        "ax2 = fig.add_subplot(1,2,2)\n",
        "ax2.plot(x, y2, color='cyan')\n",
        "fig.show()"
      ],
      "execution_count": 16,
      "outputs": [
        {
          "output_type": "display_data",
          "data": {
            "image/png": "[encoded data removed]",
            "text/plain": [
              "<Figure size 432x288 with 2 Axes>"
            ]
          },
          "metadata": {
            "tags": [],
            "needs_background": "light"
          }
        }
      ]
    },
    {
      "cell_type": "markdown",
      "metadata": {
        "id": "wNdyOgjPrO0o",
        "colab_type": "text"
      },
      "source": [
        "リスト 2.6.32\n",
        "\n",
        "比較しやすいよう、y軸をそろえる\n",
        "\n",
        "**fig.ad_subplot(sharey)**のshareyにax1を指定し、y軸をax1と同じにしている"
      ]
    },
    {
      "cell_type": "code",
      "metadata": {
        "id": "3Fk0qA7JsOAG",
        "colab_type": "code",
        "colab": {
          "base_uri": "https://localhost:8080/",
          "height": 269
        },
        "outputId": "178e52ac-cded-46e7-8bc4-c640c80e46a1"
      },
      "source": [
        "import numpy as np\n",
        "import matplotlib.pyplot as plt\n",
        "# 数値データの作成\n",
        "x = np.arange(0, 8, 0.1)\n",
        "y1 = 3*np.cos(x) - 5\n",
        "y2 = 2*np.sin(x)\n",
        "# Figureの作成\n",
        "fig = plt.figure()\n",
        "# グラフの描画(1)\n",
        "ax1 = fig.add_subplot(1,2,1)\n",
        "ax1.plot(x, y1, color='green')\n",
        "ax1.set_ylim(-8, 2)\n",
        "# グラフの描画(2)\n",
        "ax2 = fig.add_subplot(1,2,2,sharey=ax1)\n",
        "ax2.plot(x, y2, color='cyan')\n",
        "fig.show()"
      ],
      "execution_count": 19,
      "outputs": [
        {
          "output_type": "display_data",
          "data": {
            "image/png": "[encoded data removed]",
            "text/plain": [
              "<Figure size 432x288 with 2 Axes>"
            ]
          },
          "metadata": {
            "tags": [],
            "needs_background": "light"
          }
        }
      ]
    },
    {
      "cell_type": "code",
      "metadata": {
        "id": "pJDWZQepsAsP",
        "colab_type": "code",
        "colab": {}
      },
      "source": [
        ""
      ],
      "execution_count": 0,
      "outputs": []
    }
  ]
}