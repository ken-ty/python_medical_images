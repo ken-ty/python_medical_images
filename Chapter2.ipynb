{
  "nbformat": 4,
  "nbformat_minor": 0,
  "metadata": {
    "colab": {
      "name": "Chapter2.ipynb",
      "provenance": [],
      "collapsed_sections": [],
      "authorship_tag": "ABX9TyPrvcJIXgUe3rjvuxYG75EH",
      "include_colab_link": true
    },
    "kernelspec": {
      "name": "python3",
      "display_name": "Python 3"
    }
  },
  "cells": [
    {
      "cell_type": "markdown",
      "metadata": {
        "id": "view-in-github",
        "colab_type": "text"
      },
      "source": [
        "<a href=\"https://colab.research.google.com/github/kentokura/python_medical_images/blob/master/Chapter2.ipynb\" target=\"_parent\"><img src=\"https://colab.research.google.com/assets/colab-badge.svg\" alt=\"Open In Colab\"/></a>"
      ]
    },
    {
      "cell_type": "markdown",
      "metadata": {
        "id": "4H_01ICPFgP9",
        "colab_type": "text"
      },
      "source": [
        "# 第2章 Python プログラミングの基本を学ぶ\n",
        "pythonの基礎を復習します。"
      ]
    },
    {
      "cell_type": "markdown",
      "metadata": {
        "id": "Z66xPFbGGRjj",
        "colab_type": "text"
      },
      "source": [
        "## 2.1 データ型"
      ]
    },
    {
      "cell_type": "markdown",
      "metadata": {
        "id": "J9DntcPEGhXA",
        "colab_type": "text"
      },
      "source": [
        "### 2.1.1 型とは"
      ]
    },
    {
      "cell_type": "markdown",
      "metadata": {
        "id": "RCUgt3-9J-rc",
        "colab_type": "text"
      },
      "source": [
        "リスト2.1.1"
      ]
    },
    {
      "cell_type": "code",
      "metadata": {
        "id": "M_KE_2p7GbIZ",
        "colab_type": "code",
        "outputId": "5fead789-370d-44b4-e267-905b1fb92231",
        "colab": {
          "base_uri": "https://localhost:8080/",
          "height": 34
        }
      },
      "source": [
        "print(type(10))"
      ],
      "execution_count": 0,
      "outputs": [
        {
          "output_type": "stream",
          "text": [
            "<class 'int'>\n"
          ],
          "name": "stdout"
        }
      ]
    },
    {
      "cell_type": "markdown",
      "metadata": {
        "colab_type": "text",
        "id": "pHtGVkqcGzDb"
      },
      "source": [
        "リスト 2.1.2"
      ]
    },
    {
      "cell_type": "code",
      "metadata": {
        "id": "Yo5qqySHGfN0",
        "colab_type": "code",
        "outputId": "b2f167d6-5a2d-43c2-f4d1-b56a1aed23f2",
        "colab": {
          "base_uri": "https://localhost:8080/",
          "height": 34
        }
      },
      "source": [
        "print(type(\"foo\"))"
      ],
      "execution_count": 0,
      "outputs": [
        {
          "output_type": "stream",
          "text": [
            "<class 'str'>\n"
          ],
          "name": "stdout"
        }
      ]
    },
    {
      "cell_type": "markdown",
      "metadata": {
        "id": "zruDRDisG2_Y",
        "colab_type": "text"
      },
      "source": [
        "### 2.1.2 数値"
      ]
    },
    {
      "cell_type": "markdown",
      "metadata": {
        "id": "SI643tmFKN9-",
        "colab_type": "text"
      },
      "source": [
        "リスト 2.1.3"
      ]
    },
    {
      "cell_type": "code",
      "metadata": {
        "id": "DmpUmQLwKLmH",
        "colab_type": "code",
        "outputId": "a210334d-c0b3-4ded-de21-f520aad73f57",
        "colab": {
          "base_uri": "https://localhost:8080/",
          "height": 68
        }
      },
      "source": [
        "print(type(-5)) #整数\n",
        "print(type(2.73)) #浮動小数点数\n",
        "print(type(-5.0))"
      ],
      "execution_count": 0,
      "outputs": [
        {
          "output_type": "stream",
          "text": [
            "<class 'int'>\n",
            "<class 'float'>\n",
            "<class 'float'>\n"
          ],
          "name": "stdout"
        }
      ]
    },
    {
      "cell_type": "markdown",
      "metadata": {
        "id": "qFXiYwgnGZEI",
        "colab_type": "text"
      },
      "source": [
        "リスト2.1.4"
      ]
    },
    {
      "cell_type": "code",
      "metadata": {
        "id": "bCsvN8ZbHgU7",
        "colab_type": "code",
        "outputId": "2fbcc4e3-6373-4275-d446-af00eb8dde51",
        "colab": {
          "base_uri": "https://localhost:8080/",
          "height": 119
        }
      },
      "source": [
        "print(type(5+4+10))\n",
        "print(type(5+4.0+10))\n",
        "print(type(4.3/2))\n",
        "print(type(4/2))\n",
        "print(type(5//2))\n",
        "print(type(5%2))"
      ],
      "execution_count": 0,
      "outputs": [
        {
          "output_type": "stream",
          "text": [
            "<class 'int'>\n",
            "<class 'float'>\n",
            "<class 'float'>\n",
            "<class 'float'>\n",
            "<class 'int'>\n",
            "<class 'int'>\n"
          ],
          "name": "stdout"
        }
      ]
    },
    {
      "cell_type": "markdown",
      "metadata": {
        "id": "hCqnMIWRLZDO",
        "colab_type": "text"
      },
      "source": [
        "リスト2.1.5"
      ]
    },
    {
      "cell_type": "code",
      "metadata": {
        "colab_type": "code",
        "outputId": "085377a9-d9fa-465f-9197-179eef9068a9",
        "id": "wOjEF_8GMUtZ",
        "colab": {
          "base_uri": "https://localhost:8080/",
          "height": 119
        }
      },
      "source": [
        "print(5+4+10)\n",
        "print(5+4.0+10)\n",
        "print(4.3/2)\n",
        "print(4/2)\n",
        "print(5//2)\n",
        "print(5%2)"
      ],
      "execution_count": 9,
      "outputs": [
        {
          "output_type": "stream",
          "text": [
            "19\n",
            "19.0\n",
            "2.15\n",
            "2.0\n",
            "2\n",
            "1\n"
          ],
          "name": "stdout"
        }
      ]
    },
    {
      "cell_type": "markdown",
      "metadata": {
        "id": "x66GQQWgHSs5",
        "colab_type": "text"
      },
      "source": [
        "リスト2.1.6"
      ]
    },
    {
      "cell_type": "code",
      "metadata": {
        "id": "h2dahWRiMzLL",
        "colab_type": "code",
        "colab": {
          "base_uri": "https://localhost:8080/",
          "height": 68
        },
        "outputId": "97c6a36f-d7b0-41d8-f239-f8ae0d58e4fe"
      },
      "source": [
        "print(5/2)\n",
        "print(6.3/2)\n",
        "print(8/3.0)"
      ],
      "execution_count": 11,
      "outputs": [
        {
          "output_type": "stream",
          "text": [
            "2.5\n",
            "3.15\n",
            "2.6666666666666665\n"
          ],
          "name": "stdout"
        }
      ]
    },
    {
      "cell_type": "markdown",
      "metadata": {
        "id": "5eS16-WCGTNd",
        "colab_type": "text"
      },
      "source": [
        "リスト2.1.7"
      ]
    },
    {
      "cell_type": "code",
      "metadata": {
        "id": "caNB7GXVNGtZ",
        "colab_type": "code",
        "colab": {
          "base_uri": "https://localhost:8080/",
          "height": 68
        },
        "outputId": "5d9f276d-07cf-4fbd-cac3-55531e86e8ae"
      },
      "source": [
        "print(5//2)\n",
        "print(6.3//2)\n",
        "print(8//3.0)"
      ],
      "execution_count": 12,
      "outputs": [
        {
          "output_type": "stream",
          "text": [
            "2\n",
            "3.0\n",
            "2.0\n"
          ],
          "name": "stdout"
        }
      ]
    },
    {
      "cell_type": "code",
      "metadata": {
        "id": "AnN-rMlDNMPk",
        "colab_type": "code",
        "colab": {}
      },
      "source": [
        ""
      ],
      "execution_count": 0,
      "outputs": []
    }
  ]
}