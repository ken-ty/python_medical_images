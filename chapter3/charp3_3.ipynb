{
  "nbformat": 4,
  "nbformat_minor": 0,
  "metadata": {
    "colab": {
      "name": "charp3-3.ipynb",
      "provenance": [],
      "toc_visible": true,
      "authorship_tag": "ABX9TyPX2isQHWW2SL0y6/FfymQ8",
      "include_colab_link": true
    },
    "kernelspec": {
      "name": "python3",
      "display_name": "Python 3"
    }
  },
  "cells": [
    {
      "cell_type": "markdown",
      "metadata": {
        "id": "view-in-github",
        "colab_type": "text"
      },
      "source": [
        "<a href=\"https://colab.research.google.com/github/kentokura/python_medical_images/blob/master/chapter3/charp3_3.ipynb\" target=\"_parent\"><img src=\"https://colab.research.google.com/assets/colab-badge.svg\" alt=\"Open In Colab\"/></a>"
      ]
    },
    {
      "cell_type": "code",
      "metadata": {
        "id": "aGW_zkaw9NbR",
        "colab_type": "code",
        "colab": {
          "base_uri": "https://localhost:8080/",
          "height": 128
        },
        "outputId": "a157aa0e-bb5c-4c1f-98e6-0585d53f8518"
      },
      "source": [
        "import matplotlib.pyplot as plt\n",
        "import numpy as np\n",
        "import cv2\n",
        "\n",
        "from google.colab import drive\n",
        "drive.mount('/content/drive')"
      ],
      "execution_count": 1,
      "outputs": [
        {
          "output_type": "stream",
          "text": [
            "Go to this URL in a browser: https://accounts.google.com/o/oauth2/auth?client_id=947318989803-6bn6qk8qdgf4n4g3pfee6491hc0brc4i.apps.googleusercontent.com&redirect_uri=urn%3aietf%3awg%3aoauth%3a2.0%3aoob&response_type=code&scope=email%20https%3a%2f%2fwww.googleapis.com%2fauth%2fdocs.test%20https%3a%2f%2fwww.googleapis.com%2fauth%2fdrive%20https%3a%2f%2fwww.googleapis.com%2fauth%2fdrive.photos.readonly%20https%3a%2f%2fwww.googleapis.com%2fauth%2fpeopleapi.readonly\n",
            "\n",
            "Enter your authorization code:\n",
            "··········\n",
            "Mounted at /content/drive\n"
          ],
          "name": "stdout"
        }
      ]
    },
    {
      "cell_type": "markdown",
      "metadata": {
        "id": "YTsE5i_K7T4_",
        "colab_type": "text"
      },
      "source": [
        "## 3.3 シングルチャンネル画像とマルチチャンネル画像\n"
      ]
    },
    {
      "cell_type": "markdown",
      "metadata": {
        "id": "l390q_h47btt",
        "colab_type": "text"
      },
      "source": [
        "本節の学び\n",
        "- 画像からカラーチャンネル数を調べる。\n",
        "- Lena(RGB)のピクセル値を1つ調べ、RGBを確認する。\n",
        "- Lena(RGB)をシングルチャンネルに分解する。\n",
        "- 分解したLenaのシングルチャンネル画像をRGBカラー画像に戻す。\n",
        "- Lena(RGB)をシングルチャンネルに変換しLUTを設定する。\n",
        "\n",
        "**WHAT'S LUT?**\n",
        "LUT: looc up tableの略\n",
        "入力色データに対応する出力色データを参照する対応表。"
      ]
    },
    {
      "cell_type": "markdown",
      "metadata": {
        "id": "o8e19lJm883h",
        "colab_type": "text"
      },
      "source": [
        "### 3.3.1 カラーチャンネル\n",
        "\n",
        "ピクセルが色を表現するために保持できる値の数をカラーチャンネルと呼ぶ。\n",
        "１つのピクセル値に単一の値のみをもつ画像をシングルチャンネル、複数の値をもつものはマルチチャンネルと呼ばれる。"
      ]
    },
    {
      "cell_type": "code",
      "metadata": {
        "id": "iFRqo5CE916T",
        "colab_type": "code",
        "colab": {
          "base_uri": "https://localhost:8080/",
          "height": 90
        },
        "outputId": "8e9ee15a-b852-42b2-9632-421ddf2d7ea5"
      },
      "source": [
        "# 画像をロード\n",
        "bgr = cv2.imread('/content/drive/My Drive/DATASET/dataset/lena-rgb.png',\n",
        "                 flags=cv2.IMREAD_UNCHANGED)\n",
        "# BGRカラーをRGBに変換する\n",
        "rgb = cv2.cvtColor(bgr, cv2.COLOR_BGR2RGB)\n",
        "\n",
        "# グレースケール画像をロード\n",
        "gray = cv2.imread('/content/drive/My Drive/DATASET/dataset/lena-gray.png',\n",
        "                 flags=cv2.IMREAD_UNCHANGED)\n",
        "\n",
        "\n",
        "# カラーチャンネルを調べる\n",
        "#ndarrayのshapから調べる\n",
        "height, width, channel = rgb.shape\n",
        "print(height, width, channel)\n",
        "height, width = gray.shape\n",
        "print(height, width)\n",
        "#ピクセル値から調べる\n",
        "rgb100 = rgb[100,100,:]\n",
        "gray100 = gray[100, 100]\n",
        "print(\"color pixel\",rgb100)\n",
        "print(\"gray pixel\",gray100)\n"
      ],
      "execution_count": 5,
      "outputs": [
        {
          "output_type": "stream",
          "text": [
            "512 512 3\n",
            "512 512\n",
            "color pixel [178  68  78]\n",
            "gray pixel 108\n"
          ],
          "name": "stdout"
        }
      ]
    },
    {
      "cell_type": "code",
      "metadata": {
        "id": "ma_mcQ6V-2AF",
        "colab_type": "code",
        "colab": {}
      },
      "source": [
        ""
      ],
      "execution_count": 0,
      "outputs": []
    }
  ]
}