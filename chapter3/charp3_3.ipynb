{
  "nbformat": 4,
  "nbformat_minor": 0,
  "metadata": {
    "colab": {
      "name": "charp3-3.ipynb",
      "provenance": [],
      "authorship_tag": "ABX9TyORI7HKumf6vdBWTc9nsJQd",
      "include_colab_link": true
    },
    "kernelspec": {
      "name": "python3",
      "display_name": "Python 3"
    }
  },
  "cells": [
    {
      "cell_type": "markdown",
      "metadata": {
        "id": "view-in-github",
        "colab_type": "text"
      },
      "source": [
        "<a href=\"https://colab.research.google.com/github/kentokura/python_medical_images/blob/master/chapter3/charp3_3.ipynb\" target=\"_parent\"><img src=\"https://colab.research.google.com/assets/colab-badge.svg\" alt=\"Open In Colab\"/></a>"
      ]
    },
    {
      "cell_type": "code",
      "metadata": {
        "id": "aGW_zkaw9NbR",
        "colab_type": "code",
        "outputId": "bd9c85b6-d4d0-4c64-f0ad-4659e78edb0d",
        "colab": {
          "base_uri": "https://localhost:8080/",
          "height": 128
        }
      },
      "source": [
        "import matplotlib.pyplot as plt\n",
        "import numpy as np\n",
        "import cv2\n",
        "\n",
        "from google.colab import drive\n",
        "drive.mount('/content/drive')"
      ],
      "execution_count": 1,
      "outputs": [
        {
          "output_type": "stream",
          "text": [
            "Go to this URL in a browser: https://accounts.google.com/o/oauth2/auth?client_id=947318989803-6bn6qk8qdgf4n4g3pfee6491hc0brc4i.apps.googleusercontent.com&redirect_uri=urn%3aietf%3awg%3aoauth%3a2.0%3aoob&response_type=code&scope=email%20https%3a%2f%2fwww.googleapis.com%2fauth%2fdocs.test%20https%3a%2f%2fwww.googleapis.com%2fauth%2fdrive%20https%3a%2f%2fwww.googleapis.com%2fauth%2fdrive.photos.readonly%20https%3a%2f%2fwww.googleapis.com%2fauth%2fpeopleapi.readonly\n",
            "\n",
            "Enter your authorization code:\n",
            "··········\n",
            "Mounted at /content/drive\n"
          ],
          "name": "stdout"
        }
      ]
    },
    {
      "cell_type": "markdown",
      "metadata": {
        "id": "YTsE5i_K7T4_",
        "colab_type": "text"
      },
      "source": [
        "## 3.3 シングルチャンネル画像とマルチチャンネル画像\n"
      ]
    },
    {
      "cell_type": "markdown",
      "metadata": {
        "id": "l390q_h47btt",
        "colab_type": "text"
      },
      "source": [
        "本節の学び\n",
        "- 画像からカラーチャンネル数を調べる。\n",
        "- Lena(RGB)のピクセル値を1つ調べ、RGBを確認する。\n",
        "- Lena(RGB)をシングルチャンネルに分解する。\n",
        "- 分解したLenaのシングルチャンネル画像をRGBカラー画像に戻す。\n",
        "- Lena(RGB)をシングルチャンネルに変換しLUTを設定する。\n",
        "\n",
        "**WHAT'S LUT?**\n",
        "LUT: look up tableの略\n",
        "入力色データに対応する出力色データを参照する対応表。"
      ]
    },
    {
      "cell_type": "markdown",
      "metadata": {
        "id": "o8e19lJm883h",
        "colab_type": "text"
      },
      "source": [
        "### 3.3.1 カラーチャンネル\n",
        "\n",
        "ピクセルが色を表現するために保持できる値の数をカラーチャンネルと呼ぶ。\n",
        "１つのピクセル値に単一の値のみをもつ画像をシングルチャンネル、複数の値をもつものはマルチチャンネルと呼ばれる。\n",
        "\n",
        "bgr -> rgbにcvtColorを使用している"
      ]
    },
    {
      "cell_type": "code",
      "metadata": {
        "id": "iFRqo5CE916T",
        "colab_type": "code",
        "outputId": "caa5936f-64fa-48bd-917e-7aaa4d388708",
        "colab": {
          "base_uri": "https://localhost:8080/",
          "height": 90
        }
      },
      "source": [
        "# 画像をロード\n",
        "bgr = cv2.imread('/content/drive/My Drive/DATASET/dataset/lena-rgb.png',\n",
        "                 flags=cv2.IMREAD_UNCHANGED)\n",
        "# BGRカラーをRGBに変換する\n",
        "rgb = cv2.cvtColor(bgr, cv2.COLOR_BGR2RGB)\n",
        "\n",
        "# グレースケール画像をロード\n",
        "gray = cv2.imread('/content/drive/My Drive/DATASET/dataset/lena-gray.png',\n",
        "                 flags=cv2.IMREAD_UNCHANGED)\n",
        "\n",
        "\n",
        "# カラーチャンネルを調べる\n",
        "#ndarrayのshapから調べる\n",
        "height, width, channel = rgb.shape\n",
        "print(height, width, channel)\n",
        "height, width = gray.shape\n",
        "print(height, width)\n",
        "#ピクセル値から調べる\n",
        "rgb100 = rgb[100,100,:]\n",
        "gray100 = gray[100, 100]\n",
        "print(\"color pixel\",rgb100)\n",
        "print(\"gray pixel\",gray100)\n"
      ],
      "execution_count": 2,
      "outputs": [
        {
          "output_type": "stream",
          "text": [
            "512 512 3\n",
            "512 512\n",
            "color pixel [178  68  78]\n",
            "gray pixel 108\n"
          ],
          "name": "stdout"
        }
      ]
    },
    {
      "cell_type": "markdown",
      "metadata": {
        "colab_type": "text",
        "id": "1gr21vi3MvNO"
      },
      "source": [
        "### 3.3.2 RGBカラー\n",
        "\n",
        "加法混合です。"
      ]
    },
    {
      "cell_type": "markdown",
      "metadata": {
        "id": "2BUxA4mCNN4j",
        "colab_type": "text"
      },
      "source": [
        "### 3.3.3 カラー画像の構成(24-bit, 32-bit)\n",
        "\n",
        "R,G,B成分それぞれに8-bit, (apphaチャンネルが8-bit).\n",
        "\n",
        "alpha が先頭ならaRGB, 尾側(**びそく**)ならRGBaと読む."
      ]
    },
    {
      "cell_type": "markdown",
      "metadata": {
        "id": "R9TyeCs6Mww4",
        "colab_type": "text"
      },
      "source": [
        "### 3.3.4 割愛"
      ]
    },
    {
      "cell_type": "markdown",
      "metadata": {
        "id": "QVc2Zjt2OviO",
        "colab_type": "text"
      },
      "source": [
        "### 3.3.5 RGBとグレースケール\n",
        "カラー画像でもグレースケールが作れる.\n",
        "全部同じ値にする.\n",
        "\n",
        "初歩的な画像処理にカラー画像をグレースケールに変換する処理がある。\n",
        "これは、RGBの平均値などをRGBすべての要素に代入しなおすことで表現できる。"
      ]
    },
    {
      "cell_type": "markdown",
      "metadata": {
        "id": "KBwB-wKsPEx_",
        "colab_type": "text"
      },
      "source": [
        "### 3.3.6 カラーチャンネルの分解と合成\n"
      ]
    },
    {
      "cell_type": "markdown",
      "metadata": {
        "id": "Z1jKUeRePNVG",
        "colab_type": "text"
      },
      "source": [
        "リスト 3.3.2 カラーチャンネルの分解と合成\n",
        "\n",
        "rgbには3次元のnp.ndarrayが入っている。"
      ]
    },
    {
      "cell_type": "code",
      "metadata": {
        "id": "ASeYGqlhPD_k",
        "colab_type": "code",
        "colab": {
          "base_uri": "https://localhost:8080/",
          "height": 145
        },
        "outputId": "41c9bc60-fa38-4121-dba2-b8c9d6ba7884"
      },
      "source": [
        "import matplotlib.pyplot as plt\n",
        "import numpy as np\n",
        "\n",
        "bgr = cv2.imread(\"/content/drive/My Drive/DATASET/dataset/lena-rgb.png\", \n",
        "                  cv2.IMREAD_UNCHANGED)\n",
        "rgb = cv2.cvtColor(bgr, cv2.COLOR_BGR2RGB)\n",
        "\n",
        "# RGB成分の分解\n",
        "images = []\n",
        "r_channel = rgb[:,:,0]\n",
        "g_channel = rgb[:,:,1]\n",
        "b_channel = rgb[:,:,2]\n",
        "images.append(r_channel)\n",
        "images.append(g_channel)\n",
        "images.append(b_channel)\n",
        "# 画像を表示して確かめる\n",
        "for i in range(3):\n",
        "  plt.subplot(1, 4, (i+1))\n",
        "  plt.tight_layout()\n",
        "  if i == 0:\n",
        "    plt.title(\"red\")\n",
        "    plt.imshow(images[i], cmap=\"Reds\")\n",
        "  if i == 1:\n",
        "    plt.title(\"green\")\n",
        "    plt.imshow(images[i], cmap=\"Greens\")\n",
        "  if i == 2:\n",
        "    plt.title(\"blue\")\n",
        "    plt.imshow(images[i], cmap=\"Blues\")\n",
        "# 元に戻す (合成)\n",
        "# もとに戻すにはRGB順にシングルチャンネルをもつ多次元配列を作ればよい\n",
        "pixels = np.uint8(np.zeros((512,512,3)))\n",
        "pixels[:,:,0] = r_channel\n",
        "pixels[:,:,1] = g_channel\n",
        "pixels[:,:,2] = b_channel\n",
        "plt.subplot(1, 4, 4)\n",
        "plt.title(\"composite\")\n",
        "plt.imshow(pixels)"
      ],
      "execution_count": 13,
      "outputs": [
        {
          "output_type": "execute_result",
          "data": {
            "text/plain": [
              "<matplotlib.image.AxesImage at 0x7fa75f1bdd68>"
            ]
          },
          "metadata": {
            "tags": []
          },
          "execution_count": 13
        },
        {
          "output_type": "display_data",
          "data": {
            "image/png": "[encoded data removed]",
            "text/plain": [
              "<Figure size 432x288 with 4 Axes>"
            ]
          },
          "metadata": {
            "tags": [],
            "needs_background": "light"
          }
        }
      ]
    },
    {
      "cell_type": "markdown",
      "metadata": {
        "id": "25tY7XgzR_gF",
        "colab_type": "text"
      },
      "source": [
        "### 3.3.7 RGB と BGR\n",
        "プログラミングライブラリによっては、RGBの逆のBGRオーダーで処理する。\n",
        "OpenCVはBGRオーダーである。近藤しないように注意。"
      ]
    },
    {
      "cell_type": "markdown",
      "metadata": {
        "id": "ax5CVDkZWML3",
        "colab_type": "text"
      },
      "source": [
        "### 3.3.8 グレースケール画像(シングルチャンネル)とカラールックアップテーブル\n",
        "\n",
        "キーワード\n",
        "- LUT\n",
        "- 階調変数関数\n",
        "\n"
      ]
    }
  ]
}