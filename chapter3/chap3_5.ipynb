{
  "nbformat": 4,
  "nbformat_minor": 0,
  "metadata": {
    "colab": {
      "name": "chap3-5.ipynb",
      "provenance": [],
      "authorship_tag": "ABX9TyNkXzoIXXYGjP0X4VJRaUJi",
      "include_colab_link": true
    },
    "kernelspec": {
      "name": "python3",
      "display_name": "Python 3"
    }
  },
  "cells": [
    {
      "cell_type": "markdown",
      "metadata": {
        "id": "view-in-github",
        "colab_type": "text"
      },
      "source": [
        "<a href=\"https://colab.research.google.com/github/kentokura/python_medical_images/blob/master/chapter3/chap3_5.ipynb\" target=\"_parent\"><img src=\"https://colab.research.google.com/assets/colab-badge.svg\" alt=\"Open In Colab\"/></a>"
      ]
    },
    {
      "cell_type": "code",
      "metadata": {
        "id": "aGW_zkaw9NbR",
        "colab_type": "code",
        "outputId": "78c5c0ff-bddd-4d2a-fb51-406b9b9a59a4",
        "colab": {
          "base_uri": "https://localhost:8080/",
          "height": 128
        }
      },
      "source": [
        "import matplotlib.pyplot as plt\n",
        "import numpy as np\n",
        "import cv2\n",
        "from google.colab.patches import cv2_imshow\n",
        "from google.colab import drive\n",
        "\n",
        "drive.mount('/content/drive')"
      ],
      "execution_count": 0,
      "outputs": [
        {
          "output_type": "stream",
          "text": [
            "Go to this URL in a browser: https://accounts.google.com/o/oauth2/auth?client_id=947318989803-6bn6qk8qdgf4n4g3pfee6491hc0brc4i.apps.googleusercontent.com&redirect_uri=urn%3aietf%3awg%3aoauth%3a2.0%3aoob&response_type=code&scope=email%20https%3a%2f%2fwww.googleapis.com%2fauth%2fdocs.test%20https%3a%2f%2fwww.googleapis.com%2fauth%2fdrive%20https%3a%2f%2fwww.googleapis.com%2fauth%2fdrive.photos.readonly%20https%3a%2f%2fwww.googleapis.com%2fauth%2fpeopleapi.readonly\n",
            "\n",
            "Enter your authorization code:\n",
            "··········\n",
            "Mounted at /content/drive\n"
          ],
          "name": "stdout"
        }
      ]
    },
    {
      "cell_type": "markdown",
      "metadata": {
        "id": "YTsE5i_K7T4_",
        "colab_type": "text"
      },
      "source": [
        "## 3.4 画像階調のリスケール(ダウンスケールとアップスケール)\n",
        "以下を学ぶ\n",
        "- 16-bitを8bit画像へダウンスケールする\n",
        "- ダウンスケールした8-bit画像を16-bitへアップスケールする\n"
      ]
    },
    {
      "cell_type": "markdown",
      "metadata": {
        "id": "l390q_h47btt",
        "colab_type": "text"
      },
      "source": [
        "本節の学び\n",
        "- 画像のリサイズ\n",
        "- 有効視野の計算\n",
        "- リサイズに伴うピクセルスペーシングの計算\n",
        "- ピクセル補完の比較"
      ]
    },
    {
      "cell_type": "markdown",
      "metadata": {
        "id": "sz691ollYJuw",
        "colab_type": "text"
      },
      "source": [
        "### 3.5.1\n",
        "アップスケールとダウンスケール"
      ]
    },
    {
      "cell_type": "markdown",
      "metadata": {
        "id": "mrmZQ-5jTuAA",
        "colab_type": "text"
      },
      "source": [
        "リスト 3.5.1 リスケール"
      ]
    },
    {
      "cell_type": "code",
      "metadata": {
        "id": "hUbD2TgwTz7p",
        "colab_type": "code",
        "colab": {}
      },
      "source": [
        "program"
      ],
      "execution_count": 0,
      "outputs": []
    }
  ]
}