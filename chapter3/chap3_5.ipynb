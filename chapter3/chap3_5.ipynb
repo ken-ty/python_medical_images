{
  "nbformat": 4,
  "nbformat_minor": 0,
  "metadata": {
    "colab": {
      "name": "chap3-5.ipynb",
      "provenance": [],
      "toc_visible": true,
      "authorship_tag": "ABX9TyMlvclb3HRBvMZFwNUqwSAv",
      "include_colab_link": true
    },
    "kernelspec": {
      "name": "python3",
      "display_name": "Python 3"
    }
  },
  "cells": [
    {
      "cell_type": "markdown",
      "metadata": {
        "id": "view-in-github",
        "colab_type": "text"
      },
      "source": [
        "<a href=\"https://colab.research.google.com/github/kentokura/python_medical_images/blob/master/chapter3/chap3_5.ipynb\" target=\"_parent\"><img src=\"https://colab.research.google.com/assets/colab-badge.svg\" alt=\"Open In Colab\"/></a>"
      ]
    },
    {
      "cell_type": "code",
      "metadata": {
        "id": "aGW_zkaw9NbR",
        "colab_type": "code",
        "outputId": "6cb3eb65-3036-48f3-fb2d-ad466646e2b1",
        "colab": {
          "base_uri": "https://localhost:8080/",
          "height": 54
        }
      },
      "source": [
        "import matplotlib.pyplot as plt\n",
        "import numpy as np\n",
        "import cv2\n",
        "from google.colab.patches import cv2_imshow\n",
        "from google.colab import drive\n",
        "from IPython.display import Image, display_png\n",
        "\n",
        "drive.mount('/content/drive')"
      ],
      "execution_count": 2,
      "outputs": [
        {
          "output_type": "stream",
          "text": [
            "Drive already mounted at /content/drive; to attempt to forcibly remount, call drive.mount(\"/content/drive\", force_remount=True).\n"
          ],
          "name": "stdout"
        }
      ]
    },
    {
      "cell_type": "markdown",
      "metadata": {
        "id": "YTsE5i_K7T4_",
        "colab_type": "text"
      },
      "source": [
        "## 3.5 画像階調のリスケール(ダウンスケールとアップスケール)\n",
        "以下を学ぶ\n",
        "- 16-bitを8bit画像へダウンスケールする\n",
        "- ダウンスケールした8-bit画像を16-bitへアップスケールする\n"
      ]
    },
    {
      "cell_type": "markdown",
      "metadata": {
        "id": "l390q_h47btt",
        "colab_type": "text"
      },
      "source": [
        "本節の学び\n",
        "- 画像のリサイズ\n",
        "- 有効視野の計算\n",
        "- リサイズに伴うピクセルスペーシングの計算\n",
        "- ピクセル補完の比較"
      ]
    },
    {
      "cell_type": "markdown",
      "metadata": {
        "id": "sz691ollYJuw",
        "colab_type": "text"
      },
      "source": [
        "### 3.5.1\n",
        "アップスケールとダウンスケール"
      ]
    },
    {
      "cell_type": "markdown",
      "metadata": {
        "id": "mrmZQ-5jTuAA",
        "colab_type": "text"
      },
      "source": [
        "リスト 3.5.1 リスケール"
      ]
    },
    {
      "cell_type": "code",
      "metadata": {
        "id": "hUbD2TgwTz7p",
        "colab_type": "code",
        "colab": {
          "base_uri": "https://localhost:8080/",
          "height": 227
        },
        "outputId": "0eb59444-8ee1-4069-9da3-7ab598bac3db"
      },
      "source": [
        "ct = cv2.imread('/content/drive/My Drive/DATASET/dataset/CT_LEE_IR87a-NOCAL.png',\n",
        "                cv2.IMREAD_UNCHANGED)\n",
        "# display_png(Image('/content/drive/My Drive/DATASET/dataset/CT_LEE_IR87a-NOCAL.png'))\n",
        "# 原画像のデータタイプを確認\n",
        "print(\"original data type\", ct.shape, ct.dtype)\n",
        "print(\"original min and max\", np.amin(ct), np.amax(ct))\n",
        "plt.subplot(1,3,1)\n",
        "plt.tight_layout()\n",
        "plt.title(\"original \"+str(ct.dtype))\n",
        "plt.imshow(ct, cmap=\"gray\")\n",
        "\n",
        "# resclale(16-bitを8-bitへdown-scaleする)\n",
        "# 先にピクセル値を0-255の範囲に変換する\n",
        "amin=np.amin(ct)\n",
        "amax=np.amax(ct)\n",
        "scale = 255.0 / (amax-amin)\n",
        "values = ((ct-amin)*scale)\n",
        "values[values < 0] = 0\n",
        "values[values > 255] = 255\n",
        "pixelsInt8 = np.uint8(values)\n",
        "print(\"down-scaled(8-bit)\\tmin and max\", np.amin(pixelsInt8),\n",
        "      np.amax(pixelsInt8))\n",
        "plt.subplot(1,3,2)\n",
        "plt.tight_layout()\n",
        "plt.title(\"rescale 16-bit to 8-bit\")\n",
        "plt.imshow(pixelsInt8, cmap=\"gray\")\n",
        "\n",
        "# up-scale(8-bitを16bitへup-scaleする) (非可逆)\n",
        "# 8-bitの数値のままアップスケールする\n",
        "pixelsInt16 = np.uint16(pixelsInt8)\n",
        "print(\"up-scaled(16-bit)\\tmin and max\",\n",
        "      np.amin(pixelsInt16), np.amax(pixelsInt16))\n",
        "plt.subplot(1,3,3)\n",
        "plt.tight_layout()\n",
        "plt.title(\"rescale 8-bit to 16-bit\")\n",
        "plt.imshow(pixelsInt16, cmap=\"gray\")\n",
        "plt.show()"
      ],
      "execution_count": 39,
      "outputs": [
        {
          "output_type": "stream",
          "text": [
            "original data type (512, 512) uint16\n",
            "original min and max 30720 34516\n",
            "down-scaled(8-bit)\tmin and max 0 255\n",
            "up-scaled(16-bit)\tmin and max 0 255\n"
          ],
          "name": "stdout"
        },
        {
          "output_type": "display_data",
          "data": {
            "image/png": "[encoded data removed]",
            "text/plain": [
              "<Figure size 432x288 with 3 Axes>"
            ]
          },
          "metadata": {
            "tags": [],
            "needs_background": "light"
          }
        }
      ]
    }
  ]
}