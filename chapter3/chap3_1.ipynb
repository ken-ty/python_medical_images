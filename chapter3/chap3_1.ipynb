{
  "nbformat": 4,
  "nbformat_minor": 0,
  "metadata": {
    "colab": {
      "name": "chap3-1.ipynb",
      "provenance": [],
      "collapsed_sections": [],
      "authorship_tag": "ABX9TyOGcsqyCT6ghs5+umD2tDp8",
      "include_colab_link": true
    },
    "kernelspec": {
      "name": "python3",
      "display_name": "Python 3"
    }
  },
  "cells": [
    {
      "cell_type": "markdown",
      "metadata": {
        "id": "view-in-github",
        "colab_type": "text"
      },
      "source": [
        "<a href=\"https://colab.research.google.com/github/kentokura/python_medical_images/blob/master/chapter3/chap3_1.ipynb\" target=\"_parent\"><img src=\"https://colab.research.google.com/assets/colab-badge.svg\" alt=\"Open In Colab\"/></a>"
      ]
    },
    {
      "cell_type": "markdown",
      "metadata": {
        "id": "mtskh6uO2CfG",
        "colab_type": "text"
      },
      "source": [
        "# 第 3 章 Pythonを使って画像処理の基本を理解する"
      ]
    },
    {
      "cell_type": "markdown",
      "metadata": {
        "id": "lpzEF6vl2m4R",
        "colab_type": "text"
      },
      "source": [
        "## この章では?\n",
        "\n",
        "OpenCV(Open Soure Computer Vision Library) を用います。理由は以下のとおり。\n",
        "\n",
        "- 実装済みの基本的なコードを再利用することで、「車輪の再発明」を回避できる点。\n",
        "- 使用した創作物は商用利用可能な点。\n",
        "- 多くの人が利用しやすい点。\n",
        "  - オープンソースであり、Windows, MacOS, Linuxで動作する。\n",
        "  - ソースコードはC/C++で書かれており、Python, Matlab, Java, JavaScript, Rubyなどの言語からこのコードが利用できるようにインターフェースが作成されている。すげー！！！\n",
        "\n",
        "※ オープンソースとは？  \n",
        "制作者が指定したライセンスに則りソースコードが公開されているプログラム\n"
      ]
    },
    {
      "cell_type": "markdown",
      "metadata": {
        "id": "S8LkziGo4NKP",
        "colab_type": "text"
      },
      "source": [
        "### 【学習の準備】\n",
        "あらかじめGDriveのマイドライブに「dataset」と「colab notebooks」をアップロードする。"
      ]
    },
    {
      "cell_type": "markdown",
      "metadata": {
        "id": "WdgU-bF6E4Pl",
        "colab_type": "text"
      },
      "source": [
        "GDriveのマウント\n",
        "\n",
        "colabノートブックからGドライブのデータにアクセスする。"
      ]
    },
    {
      "cell_type": "code",
      "metadata": {
        "id": "LhGGsr-aFC9S",
        "colab_type": "code",
        "colab": {
          "base_uri": "https://localhost:8080/",
          "height": 122
        },
        "outputId": "dc5b771c-a2a8-4e64-e755-ae5ef13c9538"
      },
      "source": [
        "from google.colab import drive\n",
        "drive.mount('/content/drive')"
      ],
      "execution_count": 1,
      "outputs": [
        {
          "output_type": "stream",
          "text": [
            "Go to this URL in a browser: https://accounts.google.com/o/oauth2/auth?client_id=947318989803-6bn6qk8qdgf4n4g3pfee6491hc0brc4i.apps.googleusercontent.com&redirect_uri=urn%3aietf%3awg%3aoauth%3a2.0%3aoob&response_type=code&scope=email%20https%3a%2f%2fwww.googleapis.com%2fauth%2fdocs.test%20https%3a%2f%2fwww.googleapis.com%2fauth%2fdrive%20https%3a%2f%2fwww.googleapis.com%2fauth%2fdrive.photos.readonly%20https%3a%2f%2fwww.googleapis.com%2fauth%2fpeopleapi.readonly\n",
            "\n",
            "Enter your authorization code:\n",
            "··········\n",
            "Mounted at /content/drive\n"
          ],
          "name": "stdout"
        }
      ]
    }
  ]
}
