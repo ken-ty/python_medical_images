{
  "nbformat": 4,
  "nbformat_minor": 0,
  "metadata": {
    "colab": {
      "name": "chap3-6.ipynb",
      "provenance": [],
      "toc_visible": true,
      "authorship_tag": "ABX9TyPnSbSZTnavPM9cvsUhbSO/",
      "include_colab_link": true
    },
    "kernelspec": {
      "name": "python3",
      "display_name": "Python 3"
    }
  },
  "cells": [
    {
      "cell_type": "markdown",
      "metadata": {
        "id": "view-in-github",
        "colab_type": "text"
      },
      "source": [
        "<a href=\"https://colab.research.google.com/github/kentokura/python_medical_images/blob/master/chapter3/chap3_6.ipynb\" target=\"_parent\"><img src=\"https://colab.research.google.com/assets/colab-badge.svg\" alt=\"Open In Colab\"/></a>"
      ]
    },
    {
      "cell_type": "code",
      "metadata": {
        "id": "aGW_zkaw9NbR",
        "colab_type": "code",
        "outputId": "0bea2c9a-c388-4f6c-c680-fcd44a517f25",
        "colab": {
          "base_uri": "https://localhost:8080/",
          "height": 122
        }
      },
      "source": [
        "import matplotlib.pyplot as plt\n",
        "import numpy as np\n",
        "import cv2\n",
        "from google.colab.patches import cv2_imshow\n",
        "from google.colab import drive\n",
        "from IPython.display import Image, display_png\n",
        "\n",
        "drive.mount('/content/drive')"
      ],
      "execution_count": 1,
      "outputs": [
        {
          "output_type": "stream",
          "text": [
            "Go to this URL in a browser: https://accounts.google.com/o/oauth2/auth?client_id=947318989803-6bn6qk8qdgf4n4g3pfee6491hc0brc4i.apps.googleusercontent.com&redirect_uri=urn%3aietf%3awg%3aoauth%3a2.0%3aoob&response_type=code&scope=email%20https%3a%2f%2fwww.googleapis.com%2fauth%2fdocs.test%20https%3a%2f%2fwww.googleapis.com%2fauth%2fdrive%20https%3a%2f%2fwww.googleapis.com%2fauth%2fdrive.photos.readonly%20https%3a%2f%2fwww.googleapis.com%2fauth%2fpeopleapi.readonly\n",
            "\n",
            "Enter your authorization code:\n",
            "··········\n",
            "Mounted at /content/drive\n"
          ],
          "name": "stdout"
        }
      ]
    },
    {
      "cell_type": "markdown",
      "metadata": {
        "id": "YTsE5i_K7T4_",
        "colab_type": "text"
      },
      "source": [
        "## 3.6 画像のヒスとグラム\n",
        "以下を学ぶ\n",
        "- ヒストグラムの描画"
      ]
    },
    {
      "cell_type": "markdown",
      "metadata": {
        "id": "sz691ollYJuw",
        "colab_type": "text"
      },
      "source": [
        "### 3.6.2\n",
        "ヒストグラム"
      ]
    },
    {
      "cell_type": "markdown",
      "metadata": {
        "id": "mrmZQ-5jTuAA",
        "colab_type": "text"
      },
      "source": [
        "リスト 3.6.1 シングルチャンネル画像のヒストグラム\n",
        "\n",
        "- np.histogram\n",
        "- plot.bar"
      ]
    },
    {
      "cell_type": "code",
      "metadata": {
        "id": "hUbD2TgwTz7p",
        "colab_type": "code",
        "outputId": "dab080d1-b8ad-4954-bfac-a1b7583f2050",
        "colab": {
          "base_uri": "https://localhost:8080/",
          "height": 281
        }
      },
      "source": [
        "lena_gray = cv2.imread('/content/drive/My Drive/DATASET/dataset/lena-gray.png',\n",
        "                flags=cv2.IMREAD_GRAYSCALE)\n",
        "#get histogram\n",
        "hist, bins=np.histogram(lena_gray, bins=256, range=[0,256])\n",
        "# show graph\n",
        "h=[h for h in range(len(hist))]\n",
        "plt.bar(h, hist)\n",
        "plt.title(\"histogram-lena-gray\")\n",
        "plt.show()\n",
        "# "
      ],
      "execution_count": 10,
      "outputs": [
        {
          "output_type": "display_data",
          "data": {
            "image/png": "[encoded data removed]",
            "text/plain": [
              "<Figure size 432x288 with 1 Axes>"
            ]
          },
          "metadata": {
            "tags": [],
            "needs_background": "light"
          }
        }
      ]
    },
    {
      "cell_type": "markdown",
      "metadata": {
        "id": "DLvZENv7w7cn",
        "colab_type": "text"
      },
      "source": [
        "### 3.6.3 マルチチャンネル画像のヒストグラム"
      ]
    },
    {
      "cell_type": "markdown",
      "metadata": {
        "id": "Sg5oS9x_zOW3",
        "colab_type": "text"
      },
      "source": [
        "リスト　3.6.2 マルチチャンネル画像のヒストグラム（RGB)"
      ]
    },
    {
      "cell_type": "code",
      "metadata": {
        "id": "bYCxMZE7zXjo",
        "colab_type": "code",
        "colab": {
          "base_uri": "https://localhost:8080/",
          "height": 267
        },
        "outputId": "a8eb844a-da18-49cf-a2df-e24caa90944f"
      },
      "source": [
        "lena_bgr = cv2.imread(filename='/content/drive/My Drive/DATASET/dataset/lena-rgb.png',\n",
        "                      flags=cv2.IMREAD_COLOR)\n",
        "rgb = cv2.cvtColor(lena_bgr, cv2.COLOR_BGR2RGB)\n",
        "\n",
        "# R+G+B\n",
        "hist_RGB, bins = np.histogram(a=rgb.flatten(), bins=256, range=[0, 256])\n",
        "h = [h for h in range(len(hist))]\n",
        "plt.bar(h, hist_RGB, label=\"R+G+B\")\n",
        "# R\n",
        "hist_R, bins = np.histogram(a=rgb[:,:,0], bins=256, range=[0, 256])\n",
        "plt.bar(h, hist_R, color=\"r\", label=\"Red\")\n",
        "# G\n",
        "hist_G, bins = np.histogram(a=rgb[:,:,1], bins=256, range=[0, 256])\n",
        "plt.bar(h, hist_G, color=\"g\", label=\"Green\")\n",
        "# B\n",
        "hist_B, bins = np.histogram(a=rgb[:,:,2], bins=256, range=[0, 256])\n",
        "plt.bar(h, hist_B, color=\"b\", label=\"Blue\")\n",
        "plt.legend(bbox_to_anchor=(1.05, 1), loc='upper left', borderaxespad=0,\n",
        "           fontsize=18)\n",
        "plt.show()"
      ],
      "execution_count": 26,
      "outputs": [
        {
          "output_type": "display_data",
          "data": {
            "image/png": "[encoded data removed]",
            "text/plain": [
              "<Figure size 432x288 with 1 Axes>"
            ]
          },
          "metadata": {
            "tags": [],
            "needs_background": "light"
          }
        }
      ]
    },
    {
      "cell_type": "code",
      "metadata": {
        "id": "eENDibszzl6a",
        "colab_type": "code",
        "colab": {}
      },
      "source": [
        ""
      ],
      "execution_count": 0,
      "outputs": []
    }
  ]
}