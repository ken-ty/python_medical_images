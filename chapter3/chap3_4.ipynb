{
  "nbformat": 4,
  "nbformat_minor": 0,
  "metadata": {
    "colab": {
      "name": "chap3-4.ipynb",
      "provenance": [],
      "authorship_tag": "ABX9TyMGt96Y5KDg/kaiLMx2aHO/",
      "include_colab_link": true
    },
    "kernelspec": {
      "name": "python3",
      "display_name": "Python 3"
    }
  },
  "cells": [
    {
      "cell_type": "markdown",
      "metadata": {
        "id": "view-in-github",
        "colab_type": "text"
      },
      "source": [
        "<a href=\"https://colab.research.google.com/github/kentokura/python_medical_images/blob/master/chapter3/chap3_4.ipynb\" target=\"_parent\"><img src=\"https://colab.research.google.com/assets/colab-badge.svg\" alt=\"Open In Colab\"/></a>"
      ]
    },
    {
      "cell_type": "code",
      "metadata": {
        "id": "aGW_zkaw9NbR",
        "colab_type": "code",
        "outputId": "78c5c0ff-bddd-4d2a-fb51-406b9b9a59a4",
        "colab": {
          "base_uri": "https://localhost:8080/",
          "height": 128
        }
      },
      "source": [
        "import matplotlib.pyplot as plt\n",
        "import numpy as np\n",
        "import cv2\n",
        "\n",
        "from google.colab import drive\n",
        "drive.mount('/content/drive')"
      ],
      "execution_count": 1,
      "outputs": [
        {
          "output_type": "stream",
          "text": [
            "Go to this URL in a browser: https://accounts.google.com/o/oauth2/auth?client_id=947318989803-6bn6qk8qdgf4n4g3pfee6491hc0brc4i.apps.googleusercontent.com&redirect_uri=urn%3aietf%3awg%3aoauth%3a2.0%3aoob&response_type=code&scope=email%20https%3a%2f%2fwww.googleapis.com%2fauth%2fdocs.test%20https%3a%2f%2fwww.googleapis.com%2fauth%2fdrive%20https%3a%2f%2fwww.googleapis.com%2fauth%2fdrive.photos.readonly%20https%3a%2f%2fwww.googleapis.com%2fauth%2fpeopleapi.readonly\n",
            "\n",
            "Enter your authorization code:\n",
            "··········\n",
            "Mounted at /content/drive\n"
          ],
          "name": "stdout"
        }
      ]
    },
    {
      "cell_type": "markdown",
      "metadata": {
        "id": "YTsE5i_K7T4_",
        "colab_type": "text"
      },
      "source": [
        "## 3.4 画像のリサイズ"
      ]
    },
    {
      "cell_type": "markdown",
      "metadata": {
        "id": "l390q_h47btt",
        "colab_type": "text"
      },
      "source": [
        "本節の学び\n",
        "- 画像のリサイズ\n",
        "- 有効視野の計算\n",
        "- リサイズに伴うピクセルスペーシングの計算\n",
        "- ピクセル補完の比較"
      ]
    },
    {
      "cell_type": "markdown",
      "metadata": {
        "id": "sz691ollYJuw",
        "colab_type": "text"
      },
      "source": [
        "### 3.4.1\n",
        "画像サイズの変更を**リサイズ**や**リサンプリング**と呼ぶ。\n",
        "\n",
        "- 拡大は**アップサンプリング**\n",
        "- 縮小は**ダウンサンプリング**a\n",
        "\n",
        "リサイズされたデータは現画像とは別のデータとして扱う。\n",
        "- 類語にズームがあるが、マトリクスサイズを変更せずに疑似的に拡大してみせるので違う。"
      ]
    },
    {
      "cell_type": "markdown",
      "metadata": {
        "id": "mrmZQ-5jTuAA",
        "colab_type": "text"
      },
      "source": [
        "リスト 3.4.1 リサイズ(リサンプリング)\n",
        "\n",
        "interpolation...補間"
      ]
    },
    {
      "cell_type": "code",
      "metadata": {
        "id": "hUbD2TgwTz7p",
        "colab_type": "code",
        "colab": {
          "base_uri": "https://localhost:8080/",
          "height": 327
        },
        "outputId": "7d7b69e7-fd19-4fbd-82bd-869a4a5a022c"
      },
      "source": [
        "from google.colab.patches import cv2_imshow\n",
        "\n",
        "# 画像のロードとオリジナルサイズの確認\n",
        "chest = cv2.imread('/content/drive/My Drive/DATASET/dataset/ChestXray.png',\n",
        "                   cv2.IMREAD_GRAYSCALE)\n",
        "print(\"オリジナルサイズ\", chest.shape)\n",
        "# リサイズ3000を256へ\n",
        "chest256 = cv2.resize(src=chest, dsize=(256, 256),\n",
        "                      interpolation=cv2.INTER_LINEAR)\n",
        "print(\"ダウンサンプリング1\", chest256.shape)\n",
        "\n",
        "# 係数でサイズ変更(1/10)\n",
        "img300 = cv2.resize(src=chest, dsize=None, fx=0.1, fy=0.1,\n",
        "                      interpolation=cv2.INTER_LINEAR)\n",
        "print(\"ダウンサンプリング2\", img300.shape)\n",
        "\n",
        "# ゴミX線写真www\n",
        "# 真っ黒じゃないよ！\n",
        "cv2_imshow(chest256)\n"
      ],
      "execution_count": 14,
      "outputs": [
        {
          "output_type": "stream",
          "text": [
            "オリジナルサイズ (3000, 3000)\n",
            "ダウンサンプリング1 (256, 256)\n",
            "ダウンサンプリング2 (300, 300)\n"
          ],
          "name": "stdout"
        },
        {
          "output_type": "display_data",
          "data": {
            "image/png": "[encoded data removed]",
            "text/plain": [
              "<PIL.Image.Image image mode=L size=256x256 at 0x7FC80848E5F8>"
            ]
          },
          "metadata": {
            "tags": []
          }
        }
      ]
    },
    {
      "cell_type": "markdown",
      "metadata": {
        "id": "E2nAKBcuWwhP",
        "colab_type": "text"
      },
      "source": [
        "### 3.4.2 ピクセル補間\n",
        "\n",
        "- バイリニア補間\n",
        "- インターにアレスト補間\n",
        "- ニアレストネイバー補間\n",
        "\n",
        "...\n"
      ]
    },
    {
      "cell_type": "markdown",
      "metadata": {
        "id": "cfGHXUavUOFa",
        "colab_type": "text"
      },
      "source": [
        "リスト 3.4.2 ピクセル補間\n",
        "\n",
        "sinc 関数は、正弦関数をその変数で割って得られる初等関数である.\n",
        "\n",
        "sinc = (sinx) / x\n"
      ]
    },
    {
      "cell_type": "code",
      "metadata": {
        "id": "b2DgGUtTbRSB",
        "colab_type": "code",
        "colab": {
          "base_uri": "https://localhost:8080/",
          "height": 151
        },
        "outputId": "63b66f3b-25a7-4553-b623-2e9775f5f262"
      },
      "source": [
        "# 2*2ピクセル画像(8-bit)を作成\n",
        "pix = np.zeros((2,2))\n",
        "pix[0,0] = 10\n",
        "pix[0,1] = 20\n",
        "pix[1,0] = 30\n",
        "pix[1,1] = 40\n",
        "pix = np.uint8(pix) # 8-bit化\n",
        "\n",
        "# アップサンプリング\n",
        "# インターニアレスト(補間なし)\n",
        "internearest = cv2.resize(src=pix, dsize=(128,128),\n",
        "                          interpolation=cv2.INTER_NEAREST)\n",
        "plt.subplot(141)\n",
        "plt.title(\"None\")\n",
        "plt.imshow(internearest)\n",
        "\n",
        "# バイリニア\n",
        "linear = cv2.resize(src=pix, dsize=(128,128),\n",
        "                          interpolation=cv2.INTER_LINEAR)\n",
        "plt.subplot(142)\n",
        "plt.title(\"bilinear\")\n",
        "plt.imshow(linear)\n",
        "\n",
        "# バイキュービック\n",
        "cubic = cv2.resize(src=pix, dsize=(128,128),\n",
        "                          interpolation=cv2.INTER_CUBIC)\n",
        "plt.subplot(143)\n",
        "plt.title(\"bicubic\")\n",
        "plt.imshow(cubic)\n",
        "\n",
        "# バイリニア\n",
        "lanczos = cv2.resize(src=pix, dsize=(128,128),\n",
        "                          interpolation=cv2.INTER_LANCZOS4)\n",
        "plt.subplot(144)\n",
        "plt.title(\"lanczos\")\n",
        "plt.imshow(lanczos)\n",
        "\n",
        "plt.tight_layout()\n",
        "plt.plot()"
      ],
      "execution_count": 36,
      "outputs": [
        {
          "output_type": "execute_result",
          "data": {
            "text/plain": [
              "[]"
            ]
          },
          "metadata": {
            "tags": []
          },
          "execution_count": 36
        },
        {
          "output_type": "display_data",
          "data": {
            "image/png": "[encoded data removed]",
            "text/plain": [
              "<Figure size 432x288 with 4 Axes>"
            ]
          },
          "metadata": {
            "tags": [],
            "needs_background": "light"
          }
        }
      ]
    }
  ]
}